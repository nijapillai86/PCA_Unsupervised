{
  "nbformat": 4,
  "nbformat_minor": 0,
  "metadata": {
    "colab": {
      "name": "BreastCancerData-PCA-Unsuupervised.ipynb",
      "provenance": [],
      "collapsed_sections": []
    },
    "kernelspec": {
      "name": "python3",
      "display_name": "Python 3"
    },
    "language_info": {
      "name": "python"
    }
  },
  "cells": [
    {
      "cell_type": "code",
      "metadata": {
        "id": "25c_o6vzC0vR"
      },
      "source": [
        "import pandas as pd\n",
        "import numpy as np\n",
        "import matplotlib.pyplot as plt\n",
        "from sklearn.preprocessing import LabelEncoder, StandardScaler\n",
        "from sklearn.cluster import KMeans\n",
        "from sklearn.decomposition import PCA\n",
        "from sklearn import metrics"
      ],
      "execution_count": 146,
      "outputs": []
    },
    {
      "cell_type": "code",
      "metadata": {
        "colab": {
          "base_uri": "https://localhost:8080/",
          "height": 400
        },
        "id": "nco-N0_6Eqiz",
        "outputId": "94a3d065-7934-4a6b-b573-29f2efcb101b"
      },
      "source": [
        "# Read dataset to create dataframe\n",
        "df= pd.read_csv('/content/sample_data/breast-cancer-data.csv')\n",
        "df.head(10)"
      ],
      "execution_count": 147,
      "outputs": [
        {
          "output_type": "execute_result",
          "data": {
            "text/html": [
              "<div>\n",
              "<style scoped>\n",
              "    .dataframe tbody tr th:only-of-type {\n",
              "        vertical-align: middle;\n",
              "    }\n",
              "\n",
              "    .dataframe tbody tr th {\n",
              "        vertical-align: top;\n",
              "    }\n",
              "\n",
              "    .dataframe thead th {\n",
              "        text-align: right;\n",
              "    }\n",
              "</style>\n",
              "<table border=\"1\" class=\"dataframe\">\n",
              "  <thead>\n",
              "    <tr style=\"text-align: right;\">\n",
              "      <th></th>\n",
              "      <th>id</th>\n",
              "      <th>diagnosis</th>\n",
              "      <th>radius_mean</th>\n",
              "      <th>texture_mean</th>\n",
              "      <th>perimeter_mean</th>\n",
              "      <th>area_mean</th>\n",
              "      <th>smoothness_mean</th>\n",
              "      <th>compactness_mean</th>\n",
              "      <th>concavity_mean</th>\n",
              "      <th>concave points_mean</th>\n",
              "      <th>symmetry_mean</th>\n",
              "      <th>fractal_dimension_mean</th>\n",
              "      <th>radius_se</th>\n",
              "      <th>texture_se</th>\n",
              "      <th>perimeter_se</th>\n",
              "      <th>area_se</th>\n",
              "      <th>smoothness_se</th>\n",
              "      <th>compactness_se</th>\n",
              "      <th>concavity_se</th>\n",
              "      <th>concave points_se</th>\n",
              "      <th>symmetry_se</th>\n",
              "      <th>fractal_dimension_se</th>\n",
              "      <th>radius_worst</th>\n",
              "      <th>texture_worst</th>\n",
              "      <th>perimeter_worst</th>\n",
              "      <th>area_worst</th>\n",
              "      <th>smoothness_worst</th>\n",
              "      <th>compactness_worst</th>\n",
              "      <th>concavity_worst</th>\n",
              "      <th>concave points_worst</th>\n",
              "      <th>symmetry_worst</th>\n",
              "      <th>fractal_dimension_worst</th>\n",
              "    </tr>\n",
              "  </thead>\n",
              "  <tbody>\n",
              "    <tr>\n",
              "      <th>0</th>\n",
              "      <td>842302</td>\n",
              "      <td>M</td>\n",
              "      <td>17.99</td>\n",
              "      <td>10.38</td>\n",
              "      <td>122.80</td>\n",
              "      <td>1001.0</td>\n",
              "      <td>0.11840</td>\n",
              "      <td>0.27760</td>\n",
              "      <td>0.30010</td>\n",
              "      <td>0.14710</td>\n",
              "      <td>0.2419</td>\n",
              "      <td>0.07871</td>\n",
              "      <td>1.0950</td>\n",
              "      <td>0.9053</td>\n",
              "      <td>8.589</td>\n",
              "      <td>153.40</td>\n",
              "      <td>0.006399</td>\n",
              "      <td>0.04904</td>\n",
              "      <td>0.05373</td>\n",
              "      <td>0.01587</td>\n",
              "      <td>0.03003</td>\n",
              "      <td>0.006193</td>\n",
              "      <td>25.38</td>\n",
              "      <td>17.33</td>\n",
              "      <td>184.60</td>\n",
              "      <td>2019.0</td>\n",
              "      <td>0.1622</td>\n",
              "      <td>0.6656</td>\n",
              "      <td>0.7119</td>\n",
              "      <td>0.2654</td>\n",
              "      <td>0.4601</td>\n",
              "      <td>0.11890</td>\n",
              "    </tr>\n",
              "    <tr>\n",
              "      <th>1</th>\n",
              "      <td>842517</td>\n",
              "      <td>M</td>\n",
              "      <td>20.57</td>\n",
              "      <td>17.77</td>\n",
              "      <td>132.90</td>\n",
              "      <td>1326.0</td>\n",
              "      <td>0.08474</td>\n",
              "      <td>0.07864</td>\n",
              "      <td>0.08690</td>\n",
              "      <td>0.07017</td>\n",
              "      <td>0.1812</td>\n",
              "      <td>0.05667</td>\n",
              "      <td>0.5435</td>\n",
              "      <td>0.7339</td>\n",
              "      <td>3.398</td>\n",
              "      <td>74.08</td>\n",
              "      <td>0.005225</td>\n",
              "      <td>0.01308</td>\n",
              "      <td>0.01860</td>\n",
              "      <td>0.01340</td>\n",
              "      <td>0.01389</td>\n",
              "      <td>0.003532</td>\n",
              "      <td>24.99</td>\n",
              "      <td>23.41</td>\n",
              "      <td>158.80</td>\n",
              "      <td>1956.0</td>\n",
              "      <td>0.1238</td>\n",
              "      <td>0.1866</td>\n",
              "      <td>0.2416</td>\n",
              "      <td>0.1860</td>\n",
              "      <td>0.2750</td>\n",
              "      <td>0.08902</td>\n",
              "    </tr>\n",
              "    <tr>\n",
              "      <th>2</th>\n",
              "      <td>84300903</td>\n",
              "      <td>M</td>\n",
              "      <td>19.69</td>\n",
              "      <td>21.25</td>\n",
              "      <td>130.00</td>\n",
              "      <td>1203.0</td>\n",
              "      <td>0.10960</td>\n",
              "      <td>0.15990</td>\n",
              "      <td>0.19740</td>\n",
              "      <td>0.12790</td>\n",
              "      <td>0.2069</td>\n",
              "      <td>0.05999</td>\n",
              "      <td>0.7456</td>\n",
              "      <td>0.7869</td>\n",
              "      <td>4.585</td>\n",
              "      <td>94.03</td>\n",
              "      <td>0.006150</td>\n",
              "      <td>0.04006</td>\n",
              "      <td>0.03832</td>\n",
              "      <td>0.02058</td>\n",
              "      <td>0.02250</td>\n",
              "      <td>0.004571</td>\n",
              "      <td>23.57</td>\n",
              "      <td>25.53</td>\n",
              "      <td>152.50</td>\n",
              "      <td>1709.0</td>\n",
              "      <td>0.1444</td>\n",
              "      <td>0.4245</td>\n",
              "      <td>0.4504</td>\n",
              "      <td>0.2430</td>\n",
              "      <td>0.3613</td>\n",
              "      <td>0.08758</td>\n",
              "    </tr>\n",
              "    <tr>\n",
              "      <th>3</th>\n",
              "      <td>84348301</td>\n",
              "      <td>M</td>\n",
              "      <td>11.42</td>\n",
              "      <td>20.38</td>\n",
              "      <td>77.58</td>\n",
              "      <td>386.1</td>\n",
              "      <td>0.14250</td>\n",
              "      <td>0.28390</td>\n",
              "      <td>0.24140</td>\n",
              "      <td>0.10520</td>\n",
              "      <td>0.2597</td>\n",
              "      <td>0.09744</td>\n",
              "      <td>0.4956</td>\n",
              "      <td>1.1560</td>\n",
              "      <td>3.445</td>\n",
              "      <td>27.23</td>\n",
              "      <td>0.009110</td>\n",
              "      <td>0.07458</td>\n",
              "      <td>0.05661</td>\n",
              "      <td>0.01867</td>\n",
              "      <td>0.05963</td>\n",
              "      <td>0.009208</td>\n",
              "      <td>14.91</td>\n",
              "      <td>26.50</td>\n",
              "      <td>98.87</td>\n",
              "      <td>567.7</td>\n",
              "      <td>0.2098</td>\n",
              "      <td>0.8663</td>\n",
              "      <td>0.6869</td>\n",
              "      <td>0.2575</td>\n",
              "      <td>0.6638</td>\n",
              "      <td>0.17300</td>\n",
              "    </tr>\n",
              "    <tr>\n",
              "      <th>4</th>\n",
              "      <td>84358402</td>\n",
              "      <td>M</td>\n",
              "      <td>20.29</td>\n",
              "      <td>14.34</td>\n",
              "      <td>135.10</td>\n",
              "      <td>1297.0</td>\n",
              "      <td>0.10030</td>\n",
              "      <td>0.13280</td>\n",
              "      <td>0.19800</td>\n",
              "      <td>0.10430</td>\n",
              "      <td>0.1809</td>\n",
              "      <td>0.05883</td>\n",
              "      <td>0.7572</td>\n",
              "      <td>0.7813</td>\n",
              "      <td>5.438</td>\n",
              "      <td>94.44</td>\n",
              "      <td>0.011490</td>\n",
              "      <td>0.02461</td>\n",
              "      <td>0.05688</td>\n",
              "      <td>0.01885</td>\n",
              "      <td>0.01756</td>\n",
              "      <td>0.005115</td>\n",
              "      <td>22.54</td>\n",
              "      <td>16.67</td>\n",
              "      <td>152.20</td>\n",
              "      <td>1575.0</td>\n",
              "      <td>0.1374</td>\n",
              "      <td>0.2050</td>\n",
              "      <td>0.4000</td>\n",
              "      <td>0.1625</td>\n",
              "      <td>0.2364</td>\n",
              "      <td>0.07678</td>\n",
              "    </tr>\n",
              "    <tr>\n",
              "      <th>5</th>\n",
              "      <td>843786</td>\n",
              "      <td>M</td>\n",
              "      <td>12.45</td>\n",
              "      <td>15.70</td>\n",
              "      <td>82.57</td>\n",
              "      <td>477.1</td>\n",
              "      <td>0.12780</td>\n",
              "      <td>0.17000</td>\n",
              "      <td>0.15780</td>\n",
              "      <td>0.08089</td>\n",
              "      <td>0.2087</td>\n",
              "      <td>0.07613</td>\n",
              "      <td>0.3345</td>\n",
              "      <td>0.8902</td>\n",
              "      <td>2.217</td>\n",
              "      <td>27.19</td>\n",
              "      <td>0.007510</td>\n",
              "      <td>0.03345</td>\n",
              "      <td>0.03672</td>\n",
              "      <td>0.01137</td>\n",
              "      <td>0.02165</td>\n",
              "      <td>0.005082</td>\n",
              "      <td>15.47</td>\n",
              "      <td>23.75</td>\n",
              "      <td>103.40</td>\n",
              "      <td>741.6</td>\n",
              "      <td>0.1791</td>\n",
              "      <td>0.5249</td>\n",
              "      <td>0.5355</td>\n",
              "      <td>0.1741</td>\n",
              "      <td>0.3985</td>\n",
              "      <td>0.12440</td>\n",
              "    </tr>\n",
              "    <tr>\n",
              "      <th>6</th>\n",
              "      <td>844359</td>\n",
              "      <td>M</td>\n",
              "      <td>18.25</td>\n",
              "      <td>19.98</td>\n",
              "      <td>119.60</td>\n",
              "      <td>1040.0</td>\n",
              "      <td>0.09463</td>\n",
              "      <td>0.10900</td>\n",
              "      <td>0.11270</td>\n",
              "      <td>0.07400</td>\n",
              "      <td>0.1794</td>\n",
              "      <td>0.05742</td>\n",
              "      <td>0.4467</td>\n",
              "      <td>0.7732</td>\n",
              "      <td>3.180</td>\n",
              "      <td>53.91</td>\n",
              "      <td>0.004314</td>\n",
              "      <td>0.01382</td>\n",
              "      <td>0.02254</td>\n",
              "      <td>0.01039</td>\n",
              "      <td>0.01369</td>\n",
              "      <td>0.002179</td>\n",
              "      <td>22.88</td>\n",
              "      <td>27.66</td>\n",
              "      <td>153.20</td>\n",
              "      <td>1606.0</td>\n",
              "      <td>0.1442</td>\n",
              "      <td>0.2576</td>\n",
              "      <td>0.3784</td>\n",
              "      <td>0.1932</td>\n",
              "      <td>0.3063</td>\n",
              "      <td>0.08368</td>\n",
              "    </tr>\n",
              "    <tr>\n",
              "      <th>7</th>\n",
              "      <td>84458202</td>\n",
              "      <td>M</td>\n",
              "      <td>13.71</td>\n",
              "      <td>20.83</td>\n",
              "      <td>90.20</td>\n",
              "      <td>577.9</td>\n",
              "      <td>0.11890</td>\n",
              "      <td>0.16450</td>\n",
              "      <td>0.09366</td>\n",
              "      <td>0.05985</td>\n",
              "      <td>0.2196</td>\n",
              "      <td>0.07451</td>\n",
              "      <td>0.5835</td>\n",
              "      <td>1.3770</td>\n",
              "      <td>3.856</td>\n",
              "      <td>50.96</td>\n",
              "      <td>0.008805</td>\n",
              "      <td>0.03029</td>\n",
              "      <td>0.02488</td>\n",
              "      <td>0.01448</td>\n",
              "      <td>0.01486</td>\n",
              "      <td>0.005412</td>\n",
              "      <td>17.06</td>\n",
              "      <td>28.14</td>\n",
              "      <td>110.60</td>\n",
              "      <td>897.0</td>\n",
              "      <td>0.1654</td>\n",
              "      <td>0.3682</td>\n",
              "      <td>0.2678</td>\n",
              "      <td>0.1556</td>\n",
              "      <td>0.3196</td>\n",
              "      <td>0.11510</td>\n",
              "    </tr>\n",
              "    <tr>\n",
              "      <th>8</th>\n",
              "      <td>844981</td>\n",
              "      <td>M</td>\n",
              "      <td>13.00</td>\n",
              "      <td>21.82</td>\n",
              "      <td>87.50</td>\n",
              "      <td>519.8</td>\n",
              "      <td>0.12730</td>\n",
              "      <td>0.19320</td>\n",
              "      <td>0.18590</td>\n",
              "      <td>0.09353</td>\n",
              "      <td>0.2350</td>\n",
              "      <td>0.07389</td>\n",
              "      <td>0.3063</td>\n",
              "      <td>1.0020</td>\n",
              "      <td>2.406</td>\n",
              "      <td>24.32</td>\n",
              "      <td>0.005731</td>\n",
              "      <td>0.03502</td>\n",
              "      <td>0.03553</td>\n",
              "      <td>0.01226</td>\n",
              "      <td>0.02143</td>\n",
              "      <td>0.003749</td>\n",
              "      <td>15.49</td>\n",
              "      <td>30.73</td>\n",
              "      <td>106.20</td>\n",
              "      <td>739.3</td>\n",
              "      <td>0.1703</td>\n",
              "      <td>0.5401</td>\n",
              "      <td>0.5390</td>\n",
              "      <td>0.2060</td>\n",
              "      <td>0.4378</td>\n",
              "      <td>0.10720</td>\n",
              "    </tr>\n",
              "    <tr>\n",
              "      <th>9</th>\n",
              "      <td>84501001</td>\n",
              "      <td>M</td>\n",
              "      <td>12.46</td>\n",
              "      <td>24.04</td>\n",
              "      <td>83.97</td>\n",
              "      <td>475.9</td>\n",
              "      <td>0.11860</td>\n",
              "      <td>0.23960</td>\n",
              "      <td>0.22730</td>\n",
              "      <td>0.08543</td>\n",
              "      <td>0.2030</td>\n",
              "      <td>0.08243</td>\n",
              "      <td>0.2976</td>\n",
              "      <td>1.5990</td>\n",
              "      <td>2.039</td>\n",
              "      <td>23.94</td>\n",
              "      <td>0.007149</td>\n",
              "      <td>0.07217</td>\n",
              "      <td>0.07743</td>\n",
              "      <td>0.01432</td>\n",
              "      <td>0.01789</td>\n",
              "      <td>0.010080</td>\n",
              "      <td>15.09</td>\n",
              "      <td>40.68</td>\n",
              "      <td>97.65</td>\n",
              "      <td>711.4</td>\n",
              "      <td>0.1853</td>\n",
              "      <td>1.0580</td>\n",
              "      <td>1.1050</td>\n",
              "      <td>0.2210</td>\n",
              "      <td>0.4366</td>\n",
              "      <td>0.20750</td>\n",
              "    </tr>\n",
              "  </tbody>\n",
              "</table>\n",
              "</div>"
            ],
            "text/plain": [
              "         id diagnosis  ...  symmetry_worst  fractal_dimension_worst\n",
              "0    842302         M  ...          0.4601                  0.11890\n",
              "1    842517         M  ...          0.2750                  0.08902\n",
              "2  84300903         M  ...          0.3613                  0.08758\n",
              "3  84348301         M  ...          0.6638                  0.17300\n",
              "4  84358402         M  ...          0.2364                  0.07678\n",
              "5    843786         M  ...          0.3985                  0.12440\n",
              "6    844359         M  ...          0.3063                  0.08368\n",
              "7  84458202         M  ...          0.3196                  0.11510\n",
              "8    844981         M  ...          0.4378                  0.10720\n",
              "9  84501001         M  ...          0.4366                  0.20750\n",
              "\n",
              "[10 rows x 32 columns]"
            ]
          },
          "metadata": {},
          "execution_count": 147
        }
      ]
    },
    {
      "cell_type": "code",
      "metadata": {
        "colab": {
          "base_uri": "https://localhost:8080/"
        },
        "id": "oJuPQuqbEtRW",
        "outputId": "6658ed83-b472-44a4-9caa-8ee9fd746c61"
      },
      "source": [
        "# Info regarding the dataset\n",
        "df.info()"
      ],
      "execution_count": 148,
      "outputs": [
        {
          "output_type": "stream",
          "name": "stdout",
          "text": [
            "<class 'pandas.core.frame.DataFrame'>\n",
            "RangeIndex: 569 entries, 0 to 568\n",
            "Data columns (total 32 columns):\n",
            " #   Column                   Non-Null Count  Dtype  \n",
            "---  ------                   --------------  -----  \n",
            " 0   id                       569 non-null    int64  \n",
            " 1   diagnosis                569 non-null    object \n",
            " 2   radius_mean              569 non-null    float64\n",
            " 3   texture_mean             569 non-null    float64\n",
            " 4   perimeter_mean           569 non-null    float64\n",
            " 5   area_mean                569 non-null    float64\n",
            " 6   smoothness_mean          569 non-null    float64\n",
            " 7   compactness_mean         569 non-null    float64\n",
            " 8   concavity_mean           569 non-null    float64\n",
            " 9   concave points_mean      569 non-null    float64\n",
            " 10  symmetry_mean            569 non-null    float64\n",
            " 11  fractal_dimension_mean   569 non-null    float64\n",
            " 12  radius_se                569 non-null    float64\n",
            " 13  texture_se               569 non-null    float64\n",
            " 14  perimeter_se             569 non-null    float64\n",
            " 15  area_se                  569 non-null    float64\n",
            " 16  smoothness_se            569 non-null    float64\n",
            " 17  compactness_se           569 non-null    float64\n",
            " 18  concavity_se             569 non-null    float64\n",
            " 19  concave points_se        569 non-null    float64\n",
            " 20  symmetry_se              569 non-null    float64\n",
            " 21  fractal_dimension_se     569 non-null    float64\n",
            " 22  radius_worst             569 non-null    float64\n",
            " 23  texture_worst            569 non-null    float64\n",
            " 24  perimeter_worst          569 non-null    float64\n",
            " 25  area_worst               569 non-null    float64\n",
            " 26  smoothness_worst         569 non-null    float64\n",
            " 27  compactness_worst        569 non-null    float64\n",
            " 28  concavity_worst          569 non-null    float64\n",
            " 29  concave points_worst     569 non-null    float64\n",
            " 30  symmetry_worst           569 non-null    float64\n",
            " 31  fractal_dimension_worst  569 non-null    float64\n",
            "dtypes: float64(30), int64(1), object(1)\n",
            "memory usage: 142.4+ KB\n"
          ]
        }
      ]
    },
    {
      "cell_type": "code",
      "metadata": {
        "colab": {
          "base_uri": "https://localhost:8080/"
        },
        "id": "wz0wSa3fEwDX",
        "outputId": "28088d65-b60f-44ad-f9d3-945e4efe0e30"
      },
      "source": [
        "# Check any null values exist\n",
        "df.isnull().sum()"
      ],
      "execution_count": 149,
      "outputs": [
        {
          "output_type": "execute_result",
          "data": {
            "text/plain": [
              "id                         0\n",
              "diagnosis                  0\n",
              "radius_mean                0\n",
              "texture_mean               0\n",
              "perimeter_mean             0\n",
              "area_mean                  0\n",
              "smoothness_mean            0\n",
              "compactness_mean           0\n",
              "concavity_mean             0\n",
              "concave points_mean        0\n",
              "symmetry_mean              0\n",
              "fractal_dimension_mean     0\n",
              "radius_se                  0\n",
              "texture_se                 0\n",
              "perimeter_se               0\n",
              "area_se                    0\n",
              "smoothness_se              0\n",
              "compactness_se             0\n",
              "concavity_se               0\n",
              "concave points_se          0\n",
              "symmetry_se                0\n",
              "fractal_dimension_se       0\n",
              "radius_worst               0\n",
              "texture_worst              0\n",
              "perimeter_worst            0\n",
              "area_worst                 0\n",
              "smoothness_worst           0\n",
              "compactness_worst          0\n",
              "concavity_worst            0\n",
              "concave points_worst       0\n",
              "symmetry_worst             0\n",
              "fractal_dimension_worst    0\n",
              "dtype: int64"
            ]
          },
          "metadata": {},
          "execution_count": 149
        }
      ]
    },
    {
      "cell_type": "code",
      "metadata": {
        "colab": {
          "base_uri": "https://localhost:8080/",
          "height": 244
        },
        "id": "9UQgU5pyFeth",
        "outputId": "d723d8fd-2447-4e91-fc28-3b93a975f77f"
      },
      "source": [
        "# Convert the diagnosis column to 1/0 and store in a new column target.\n",
        "# Apply LabelEncoder to column 'diagnosis' and \n",
        "# create a column 'target' to store encoded data\n",
        "\n",
        "le = LabelEncoder()\n",
        "df['target'] = le.fit_transform(df['diagnosis'])\n",
        "\n",
        "# drop columns\n",
        "df.drop(columns=['diagnosis','area_mean','id','symmetry_mean','area_se','symmetry_se','area_worst','symmetry_worst'], inplace=True)\n",
        "df.head()"
      ],
      "execution_count": 150,
      "outputs": [
        {
          "output_type": "execute_result",
          "data": {
            "text/html": [
              "<div>\n",
              "<style scoped>\n",
              "    .dataframe tbody tr th:only-of-type {\n",
              "        vertical-align: middle;\n",
              "    }\n",
              "\n",
              "    .dataframe tbody tr th {\n",
              "        vertical-align: top;\n",
              "    }\n",
              "\n",
              "    .dataframe thead th {\n",
              "        text-align: right;\n",
              "    }\n",
              "</style>\n",
              "<table border=\"1\" class=\"dataframe\">\n",
              "  <thead>\n",
              "    <tr style=\"text-align: right;\">\n",
              "      <th></th>\n",
              "      <th>radius_mean</th>\n",
              "      <th>texture_mean</th>\n",
              "      <th>perimeter_mean</th>\n",
              "      <th>smoothness_mean</th>\n",
              "      <th>compactness_mean</th>\n",
              "      <th>concavity_mean</th>\n",
              "      <th>concave points_mean</th>\n",
              "      <th>fractal_dimension_mean</th>\n",
              "      <th>radius_se</th>\n",
              "      <th>texture_se</th>\n",
              "      <th>perimeter_se</th>\n",
              "      <th>smoothness_se</th>\n",
              "      <th>compactness_se</th>\n",
              "      <th>concavity_se</th>\n",
              "      <th>concave points_se</th>\n",
              "      <th>fractal_dimension_se</th>\n",
              "      <th>radius_worst</th>\n",
              "      <th>texture_worst</th>\n",
              "      <th>perimeter_worst</th>\n",
              "      <th>smoothness_worst</th>\n",
              "      <th>compactness_worst</th>\n",
              "      <th>concavity_worst</th>\n",
              "      <th>concave points_worst</th>\n",
              "      <th>fractal_dimension_worst</th>\n",
              "      <th>target</th>\n",
              "    </tr>\n",
              "  </thead>\n",
              "  <tbody>\n",
              "    <tr>\n",
              "      <th>0</th>\n",
              "      <td>17.99</td>\n",
              "      <td>10.38</td>\n",
              "      <td>122.80</td>\n",
              "      <td>0.11840</td>\n",
              "      <td>0.27760</td>\n",
              "      <td>0.3001</td>\n",
              "      <td>0.14710</td>\n",
              "      <td>0.07871</td>\n",
              "      <td>1.0950</td>\n",
              "      <td>0.9053</td>\n",
              "      <td>8.589</td>\n",
              "      <td>0.006399</td>\n",
              "      <td>0.04904</td>\n",
              "      <td>0.05373</td>\n",
              "      <td>0.01587</td>\n",
              "      <td>0.006193</td>\n",
              "      <td>25.38</td>\n",
              "      <td>17.33</td>\n",
              "      <td>184.60</td>\n",
              "      <td>0.1622</td>\n",
              "      <td>0.6656</td>\n",
              "      <td>0.7119</td>\n",
              "      <td>0.2654</td>\n",
              "      <td>0.11890</td>\n",
              "      <td>1</td>\n",
              "    </tr>\n",
              "    <tr>\n",
              "      <th>1</th>\n",
              "      <td>20.57</td>\n",
              "      <td>17.77</td>\n",
              "      <td>132.90</td>\n",
              "      <td>0.08474</td>\n",
              "      <td>0.07864</td>\n",
              "      <td>0.0869</td>\n",
              "      <td>0.07017</td>\n",
              "      <td>0.05667</td>\n",
              "      <td>0.5435</td>\n",
              "      <td>0.7339</td>\n",
              "      <td>3.398</td>\n",
              "      <td>0.005225</td>\n",
              "      <td>0.01308</td>\n",
              "      <td>0.01860</td>\n",
              "      <td>0.01340</td>\n",
              "      <td>0.003532</td>\n",
              "      <td>24.99</td>\n",
              "      <td>23.41</td>\n",
              "      <td>158.80</td>\n",
              "      <td>0.1238</td>\n",
              "      <td>0.1866</td>\n",
              "      <td>0.2416</td>\n",
              "      <td>0.1860</td>\n",
              "      <td>0.08902</td>\n",
              "      <td>1</td>\n",
              "    </tr>\n",
              "    <tr>\n",
              "      <th>2</th>\n",
              "      <td>19.69</td>\n",
              "      <td>21.25</td>\n",
              "      <td>130.00</td>\n",
              "      <td>0.10960</td>\n",
              "      <td>0.15990</td>\n",
              "      <td>0.1974</td>\n",
              "      <td>0.12790</td>\n",
              "      <td>0.05999</td>\n",
              "      <td>0.7456</td>\n",
              "      <td>0.7869</td>\n",
              "      <td>4.585</td>\n",
              "      <td>0.006150</td>\n",
              "      <td>0.04006</td>\n",
              "      <td>0.03832</td>\n",
              "      <td>0.02058</td>\n",
              "      <td>0.004571</td>\n",
              "      <td>23.57</td>\n",
              "      <td>25.53</td>\n",
              "      <td>152.50</td>\n",
              "      <td>0.1444</td>\n",
              "      <td>0.4245</td>\n",
              "      <td>0.4504</td>\n",
              "      <td>0.2430</td>\n",
              "      <td>0.08758</td>\n",
              "      <td>1</td>\n",
              "    </tr>\n",
              "    <tr>\n",
              "      <th>3</th>\n",
              "      <td>11.42</td>\n",
              "      <td>20.38</td>\n",
              "      <td>77.58</td>\n",
              "      <td>0.14250</td>\n",
              "      <td>0.28390</td>\n",
              "      <td>0.2414</td>\n",
              "      <td>0.10520</td>\n",
              "      <td>0.09744</td>\n",
              "      <td>0.4956</td>\n",
              "      <td>1.1560</td>\n",
              "      <td>3.445</td>\n",
              "      <td>0.009110</td>\n",
              "      <td>0.07458</td>\n",
              "      <td>0.05661</td>\n",
              "      <td>0.01867</td>\n",
              "      <td>0.009208</td>\n",
              "      <td>14.91</td>\n",
              "      <td>26.50</td>\n",
              "      <td>98.87</td>\n",
              "      <td>0.2098</td>\n",
              "      <td>0.8663</td>\n",
              "      <td>0.6869</td>\n",
              "      <td>0.2575</td>\n",
              "      <td>0.17300</td>\n",
              "      <td>1</td>\n",
              "    </tr>\n",
              "    <tr>\n",
              "      <th>4</th>\n",
              "      <td>20.29</td>\n",
              "      <td>14.34</td>\n",
              "      <td>135.10</td>\n",
              "      <td>0.10030</td>\n",
              "      <td>0.13280</td>\n",
              "      <td>0.1980</td>\n",
              "      <td>0.10430</td>\n",
              "      <td>0.05883</td>\n",
              "      <td>0.7572</td>\n",
              "      <td>0.7813</td>\n",
              "      <td>5.438</td>\n",
              "      <td>0.011490</td>\n",
              "      <td>0.02461</td>\n",
              "      <td>0.05688</td>\n",
              "      <td>0.01885</td>\n",
              "      <td>0.005115</td>\n",
              "      <td>22.54</td>\n",
              "      <td>16.67</td>\n",
              "      <td>152.20</td>\n",
              "      <td>0.1374</td>\n",
              "      <td>0.2050</td>\n",
              "      <td>0.4000</td>\n",
              "      <td>0.1625</td>\n",
              "      <td>0.07678</td>\n",
              "      <td>1</td>\n",
              "    </tr>\n",
              "  </tbody>\n",
              "</table>\n",
              "</div>"
            ],
            "text/plain": [
              "   radius_mean  texture_mean  ...  fractal_dimension_worst  target\n",
              "0        17.99         10.38  ...                  0.11890       1\n",
              "1        20.57         17.77  ...                  0.08902       1\n",
              "2        19.69         21.25  ...                  0.08758       1\n",
              "3        11.42         20.38  ...                  0.17300       1\n",
              "4        20.29         14.34  ...                  0.07678       1\n",
              "\n",
              "[5 rows x 25 columns]"
            ]
          },
          "metadata": {},
          "execution_count": 150
        }
      ]
    },
    {
      "cell_type": "code",
      "metadata": {
        "colab": {
          "base_uri": "https://localhost:8080/"
        },
        "id": "maQAcWOJOUgN",
        "outputId": "9721570b-e9d0-44f1-b984-683f2922d3e0"
      },
      "source": [
        "df.columns"
      ],
      "execution_count": 151,
      "outputs": [
        {
          "output_type": "execute_result",
          "data": {
            "text/plain": [
              "Index(['radius_mean', 'texture_mean', 'perimeter_mean', 'smoothness_mean',\n",
              "       'compactness_mean', 'concavity_mean', 'concave points_mean',\n",
              "       'fractal_dimension_mean', 'radius_se', 'texture_se', 'perimeter_se',\n",
              "       'smoothness_se', 'compactness_se', 'concavity_se', 'concave points_se',\n",
              "       'fractal_dimension_se', 'radius_worst', 'texture_worst',\n",
              "       'perimeter_worst', 'smoothness_worst', 'compactness_worst',\n",
              "       'concavity_worst', 'concave points_worst', 'fractal_dimension_worst',\n",
              "       'target'],\n",
              "      dtype='object')"
            ]
          },
          "metadata": {},
          "execution_count": 151
        }
      ]
    },
    {
      "cell_type": "code",
      "metadata": {
        "id": "8soRg8wK_Oe5",
        "colab": {
          "base_uri": "https://localhost:8080/"
        },
        "outputId": "acdb0e97-7061-416d-f2de-08ba5e014e98"
      },
      "source": [
        "# Apply StandardScaler to scale dataframe\n",
        "scalar= StandardScaler()\n",
        "scaled_df = scalar.fit_transform(df)\n",
        "scaled_df"
      ],
      "execution_count": 152,
      "outputs": [
        {
          "output_type": "execute_result",
          "data": {
            "text/plain": [
              "array([[ 1.09706398, -2.07333501,  1.26993369, ...,  2.29607613,\n",
              "         1.93701461,  1.29767572],\n",
              "       [ 1.82982061, -0.35363241,  1.68595471, ...,  1.0870843 ,\n",
              "         0.28118999,  1.29767572],\n",
              "       [ 1.57988811,  0.45618695,  1.56650313, ...,  1.95500035,\n",
              "         0.20139121,  1.29767572],\n",
              "       ...,\n",
              "       [ 0.70228425,  2.0455738 ,  0.67267578, ...,  0.41406869,\n",
              "        -0.31840916,  1.29767572],\n",
              "       [ 1.83834103,  2.33645719,  1.98252415, ...,  2.28998549,\n",
              "         2.21963528,  1.29767572],\n",
              "       [-1.80840125,  1.22179204, -1.81438851, ..., -1.74506282,\n",
              "        -0.75120669, -0.77060855]])"
            ]
          },
          "metadata": {},
          "execution_count": 152
        }
      ]
    },
    {
      "cell_type": "code",
      "metadata": {
        "id": "6-no6Wq6OI3J"
      },
      "source": [
        "# Convert scaled dataset to dataframe\n",
        "df_new = pd.DataFrame(scaled_df, columns = ['radius_mean', 'texture_mean', 'perimeter_mean', 'smoothness_mean',\n",
        "       'compactness_mean', 'concavity_mean', 'concave points_mean',\n",
        "       'fractal_dimension_mean', 'radius_se', 'texture_se', 'perimeter_se',\n",
        "       'smoothness_se', 'compactness_se', 'concavity_se', 'concave points_se',\n",
        "       'fractal_dimension_se', 'radius_worst', 'texture_worst',\n",
        "       'perimeter_worst', 'smoothness_worst', 'compactness_worst',\n",
        "       'concavity_worst', 'concave points_worst', 'fractal_dimension_worst',\n",
        "       'target'])\n",
        "\n",
        "# Split fetures and target dataset\n",
        "X,y = df_new.drop(['target'], axis=1),df_new['target']"
      ],
      "execution_count": 153,
      "outputs": []
    },
    {
      "cell_type": "code",
      "metadata": {
        "colab": {
          "base_uri": "https://localhost:8080/"
        },
        "id": "ANH-yryFGp-1",
        "outputId": "3719c259-aba5-4b74-c6b0-3b76d5827a67"
      },
      "source": [
        "# check score of PCA with 2 components\n",
        "pca = PCA(n_components=2)\n",
        "pca_scores = pca.fit_transform(scaled_df)\n",
        "pca_scores"
      ],
      "execution_count": 154,
      "outputs": [
        {
          "output_type": "execute_result",
          "data": {
            "text/plain": [
              "array([[ 8.16938388,  1.12086385],\n",
              "       [ 1.69288551, -3.25700199],\n",
              "       [ 5.09855035, -1.44082941],\n",
              "       ...,\n",
              "       [ 1.62364566, -1.67630699],\n",
              "       [ 9.89323957,  0.59150583],\n",
              "       [-5.30716664, -0.68653961]])"
            ]
          },
          "metadata": {},
          "execution_count": 154
        }
      ]
    },
    {
      "cell_type": "code",
      "metadata": {
        "colab": {
          "base_uri": "https://localhost:8080/",
          "height": 279
        },
        "id": "w3H1tPwdRHIY",
        "outputId": "aa641b0b-475f-40a3-e8cf-cb89e2f1ff09"
      },
      "source": [
        "# elbow method to identify optimum no: of clusters of features\n",
        "wcss = []\n",
        "for k in range(1, 6):\n",
        "    kmeans = KMeans(n_clusters=k, random_state=1).fit(X)\n",
        "    wcss.append(np.sqrt(kmeans.inertia_))\n",
        "\n",
        "plt.plot(range(1, 6), wcss, marker='s');\n",
        "plt.xlabel('Number of clusters')\n",
        "plt.ylabel('WCSS');\n",
        "\n"
      ],
      "execution_count": 155,
      "outputs": [
        {
          "output_type": "display_data",
          "data": {
            "image/png": "[encoded data removed]",
            "text/plain": [
              "<Figure size 432x288 with 1 Axes>"
            ]
          },
          "metadata": {
            "needs_background": "light"
          }
        }
      ]
    },
    {
      "cell_type": "markdown",
      "metadata": {
        "id": "8vpG62GqHn4G"
      },
      "source": [
        "After using Elbow method, we got the optimum no:of clusters =3"
      ]
    },
    {
      "cell_type": "code",
      "metadata": {
        "colab": {
          "base_uri": "https://localhost:8080/"
        },
        "id": "A-DrRtUlHkUh",
        "outputId": "bcc81997-f43e-434a-dce3-149084c29a7c"
      },
      "source": [
        "# Transform this data to its first 2 principal components.\n",
        "# convert our dataset from multidimensions to 2 dimensions.\n",
        "pca = PCA(2)\n",
        "data = pca.fit_transform(X)\n",
        "# access values and vectors\n",
        "# print(pca.components_)\n",
        "print(\"Original data shape \",X.shape)\n",
        "print(\"Transformed data shape \",data.shape)\n",
        "print(np.cumsum(pca.fit(X).explained_variance_ratio_))"
      ],
      "execution_count": 157,
      "outputs": [
        {
          "output_type": "stream",
          "name": "stdout",
          "text": [
            "Original data shape  (569, 24)\n",
            "Transformed data shape  (569, 2)\n",
            "[0.46193853 0.65026961]\n"
          ]
        }
      ]
    },
    {
      "cell_type": "code",
      "metadata": {
        "colab": {
          "base_uri": "https://localhost:8080/",
          "height": 206
        },
        "id": "VyWH9_usKt8h",
        "outputId": "473dabf3-1919-44e0-b822-0b52659641b2"
      },
      "source": [
        "df_pca_2 = pd.DataFrame(data=data, columns=['PC1','PC2'])\n",
        "pca_2_df = pd.concat([df_pca_2, y.to_frame()], axis = 1)\n",
        "pca_2_df.head()\n"
      ],
      "execution_count": 43,
      "outputs": [
        {
          "output_type": "execute_result",
          "data": {
            "text/html": [
              "<div>\n",
              "<style scoped>\n",
              "    .dataframe tbody tr th:only-of-type {\n",
              "        vertical-align: middle;\n",
              "    }\n",
              "\n",
              "    .dataframe tbody tr th {\n",
              "        vertical-align: top;\n",
              "    }\n",
              "\n",
              "    .dataframe thead th {\n",
              "        text-align: right;\n",
              "    }\n",
              "</style>\n",
              "<table border=\"1\" class=\"dataframe\">\n",
              "  <thead>\n",
              "    <tr style=\"text-align: right;\">\n",
              "      <th></th>\n",
              "      <th>PC1</th>\n",
              "      <th>PC2</th>\n",
              "      <th>target</th>\n",
              "    </tr>\n",
              "  </thead>\n",
              "  <tbody>\n",
              "    <tr>\n",
              "      <th>0</th>\n",
              "      <td>8.116323</td>\n",
              "      <td>0.858331</td>\n",
              "      <td>1.297676</td>\n",
              "    </tr>\n",
              "    <tr>\n",
              "      <th>1</th>\n",
              "      <td>1.365736</td>\n",
              "      <td>-3.192362</td>\n",
              "      <td>1.297676</td>\n",
              "    </tr>\n",
              "    <tr>\n",
              "      <th>2</th>\n",
              "      <td>4.901413</td>\n",
              "      <td>-1.546180</td>\n",
              "      <td>1.297676</td>\n",
              "    </tr>\n",
              "    <tr>\n",
              "      <th>3</th>\n",
              "      <td>7.333377</td>\n",
              "      <td>7.358345</td>\n",
              "      <td>1.297676</td>\n",
              "    </tr>\n",
              "    <tr>\n",
              "      <th>4</th>\n",
              "      <td>3.321398</td>\n",
              "      <td>-1.464089</td>\n",
              "      <td>1.297676</td>\n",
              "    </tr>\n",
              "  </tbody>\n",
              "</table>\n",
              "</div>"
            ],
            "text/plain": [
              "        PC1       PC2    target\n",
              "0  8.116323  0.858331  1.297676\n",
              "1  1.365736 -3.192362  1.297676\n",
              "2  4.901413 -1.546180  1.297676\n",
              "3  7.333377  7.358345  1.297676\n",
              "4  3.321398 -1.464089  1.297676"
            ]
          },
          "metadata": {},
          "execution_count": 43
        }
      ]
    },
    {
      "cell_type": "code",
      "metadata": {
        "colab": {
          "base_uri": "https://localhost:8080/"
        },
        "id": "JfcqsE5EIBsN",
        "outputId": "004c452a-8034-43db-dbf2-ed0f780fe84f"
      },
      "source": [
        "# Transform this data to its first 3 principal components.\n",
        "#convert our dataset from multidimensions to 3 dimensions.\n",
        "pca_3 = PCA(3)\n",
        "data_3 = pca_3.fit_transform(X)\n",
        "# access values and vectors\n",
        "# print(pca_3.components_)\n",
        "print(\"Original data shape \",X.shape)\n",
        "print(\"Transformed data shape \",data_3.shape)\n",
        "print(np.cumsum(pca_3.fit(X).explained_variance_ratio_))"
      ],
      "execution_count": 158,
      "outputs": [
        {
          "output_type": "stream",
          "name": "stdout",
          "text": [
            "Original data shape  (569, 24)\n",
            "Transformed data shape  (569, 3)\n",
            "[0.46193853 0.65026961 0.74585956]\n"
          ]
        }
      ]
    },
    {
      "cell_type": "code",
      "metadata": {
        "colab": {
          "base_uri": "https://localhost:8080/"
        },
        "id": "pOGIlHNH5pEd",
        "outputId": "8223c813-e27f-4a6a-bc3c-6faca5d85da7"
      },
      "source": [
        "type(data_3)"
      ],
      "execution_count": 91,
      "outputs": [
        {
          "output_type": "execute_result",
          "data": {
            "text/plain": [
              "numpy.ndarray"
            ]
          },
          "metadata": {},
          "execution_count": 91
        }
      ]
    },
    {
      "cell_type": "code",
      "metadata": {
        "colab": {
          "base_uri": "https://localhost:8080/",
          "height": 206
        },
        "id": "XWeIUI93Kzjv",
        "outputId": "a105f2df-22fe-4c36-ccea-4546e97200df"
      },
      "source": [
        "df_pca_3 = pd.DataFrame(data=data_3, columns=['PC1','PC2','PC3'])\n",
        "pca_3_df = pd.concat([df_pca_3, y.to_frame()], axis = 1)\n",
        "pca_3_df.head()"
      ],
      "execution_count": 52,
      "outputs": [
        {
          "output_type": "execute_result",
          "data": {
            "text/html": [
              "<div>\n",
              "<style scoped>\n",
              "    .dataframe tbody tr th:only-of-type {\n",
              "        vertical-align: middle;\n",
              "    }\n",
              "\n",
              "    .dataframe tbody tr th {\n",
              "        vertical-align: top;\n",
              "    }\n",
              "\n",
              "    .dataframe thead th {\n",
              "        text-align: right;\n",
              "    }\n",
              "</style>\n",
              "<table border=\"1\" class=\"dataframe\">\n",
              "  <thead>\n",
              "    <tr style=\"text-align: right;\">\n",
              "      <th></th>\n",
              "      <th>PC1</th>\n",
              "      <th>PC2</th>\n",
              "      <th>PC3</th>\n",
              "      <th>target</th>\n",
              "    </tr>\n",
              "  </thead>\n",
              "  <tbody>\n",
              "    <tr>\n",
              "      <th>0</th>\n",
              "      <td>8.116323</td>\n",
              "      <td>0.858331</td>\n",
              "      <td>-2.078021</td>\n",
              "      <td>1.297676</td>\n",
              "    </tr>\n",
              "    <tr>\n",
              "      <th>1</th>\n",
              "      <td>1.365736</td>\n",
              "      <td>-3.192362</td>\n",
              "      <td>-0.586660</td>\n",
              "      <td>1.297676</td>\n",
              "    </tr>\n",
              "    <tr>\n",
              "      <th>2</th>\n",
              "      <td>4.901413</td>\n",
              "      <td>-1.546180</td>\n",
              "      <td>-0.590504</td>\n",
              "      <td>1.297676</td>\n",
              "    </tr>\n",
              "    <tr>\n",
              "      <th>3</th>\n",
              "      <td>7.333377</td>\n",
              "      <td>7.358345</td>\n",
              "      <td>-3.427547</td>\n",
              "      <td>1.297676</td>\n",
              "    </tr>\n",
              "    <tr>\n",
              "      <th>4</th>\n",
              "      <td>3.321398</td>\n",
              "      <td>-1.464089</td>\n",
              "      <td>0.473797</td>\n",
              "      <td>1.297676</td>\n",
              "    </tr>\n",
              "  </tbody>\n",
              "</table>\n",
              "</div>"
            ],
            "text/plain": [
              "        PC1       PC2       PC3    target\n",
              "0  8.116323  0.858331 -2.078021  1.297676\n",
              "1  1.365736 -3.192362 -0.586660  1.297676\n",
              "2  4.901413 -1.546180 -0.590504  1.297676\n",
              "3  7.333377  7.358345 -3.427547  1.297676\n",
              "4  3.321398 -1.464089  0.473797  1.297676"
            ]
          },
          "metadata": {},
          "execution_count": 52
        }
      ]
    },
    {
      "cell_type": "code",
      "metadata": {
        "colab": {
          "base_uri": "https://localhost:8080/"
        },
        "id": "qx_R4ru9wo1l",
        "outputId": "f45d2822-5c3e-4741-f6f6-baeab23c8cb9"
      },
      "source": [
        "# Print the explained variance.\n",
        "exp_var_cumsum=pd.Series(np.round(pca_3.fit(X).explained_variance_ratio_.cumsum(),4)*100)  \n",
        "for index,var in enumerate(exp_var_cumsum):  \n",
        "    print('if n_components= %d,   variance=%f' %(index+1,np.round(var,3)))"
      ],
      "execution_count": 156,
      "outputs": [
        {
          "output_type": "stream",
          "name": "stdout",
          "text": [
            "if n_components= 1,   variance=46.190000\n",
            "if n_components= 2,   variance=65.030000\n",
            "if n_components= 3,   variance=74.590000\n"
          ]
        }
      ]
    },
    {
      "cell_type": "code",
      "metadata": {
        "colab": {
          "base_uri": "https://localhost:8080/",
          "height": 295
        },
        "id": "RAA7rgHdAd7D",
        "outputId": "fef1c2bb-4a7a-46a5-ecba-2a71286d4383"
      },
      "source": [
        "# Plot the two dimensions.\n",
        "total_var = pca.fit(X).explained_variance_ratio_.sum() * 100\n",
        "plt.scatter(pca_2_df['PC1'],pca_2_df['PC2'], c=df['target'], cmap='cividis')\n",
        "plt.title(f'Total Explained Variance: {total_var:.2f}%')\n",
        "plt.xlabel('First Principal Component')\n",
        "plt.ylabel('Second Principal Component')\n",
        "plt.show()"
      ],
      "execution_count": 178,
      "outputs": [
        {
          "output_type": "display_data",
          "data": {
            "image/png": "[encoded data removed]",
            "text/plain": [
              "<Figure size 432x288 with 1 Axes>"
            ]
          },
          "metadata": {
            "needs_background": "light"
          }
        }
      ]
    },
    {
      "cell_type": "code",
      "metadata": {
        "colab": {
          "base_uri": "https://localhost:8080/",
          "height": 542
        },
        "id": "gilJkTFhGC2N",
        "outputId": "18fab716-8224-4546-d544-32256acbdf03"
      },
      "source": [
        "# Plot the three dimensions.\n",
        "import plotly.express as px\n",
        "total_var = pca_3.fit(X).explained_variance_ratio_.sum() * 100\n",
        "fig = px.scatter_3d(\n",
        "    data_3, x=0, y=1, z=2, color=df['target'],\n",
        "    title=f'Total Explained Variance: {total_var:.2f}%',\n",
        "    labels={'0': 'PC 1', '1': 'PC 2', '2': 'PC 3'}\n",
        ")\n",
        "fig.show()\n"
      ],
      "execution_count": 179,
      "outputs": [
        {
          "output_type": "display_data",
          "data": {
            "text/html": [
              "<html>\n",
              "<head><meta charset=\"utf-8\" /></head>\n",
              "<body>\n",
              "    <div>\n",
              "            <script src=\"https://cdnjs.cloudflare.com/ajax/libs/mathjax/2.7.5/MathJax.js?config=TeX-AMS-MML_SVG\"></script><script type=\"text/javascript\">if (window.MathJax) {MathJax.Hub.Config({SVG: {font: \"STIX-Web\"}});}</script>\n",
              "                <script type=\"text/javascript\">window.PlotlyConfig = {MathJaxConfig: 'local'};</script>\n",
              "        <script src=\"https://cdn.plot.ly/plotly-latest.min.js\"></script>    \n",
              "            <div id=\"84055b34-be79-4104-b587-444f139704e4\" class=\"plotly-graph-div\" style=\"height:525px; width:100%;\"></div>\n",
              "            <script type=\"text/javascript\">\n",
              "                \n",
              "                    window.PLOTLYENV=window.PLOTLYENV || {};\n",
              "                    \n",
              "                if (document.getElementById(\"84055b34-be79-4104-b587-444f139704e4\")) {\n",
              "                    Plotly.newPlot(\n",
              "                        '84055b34-be79-4104-b587-444f139704e4',\n",
              "                        [{\"hoverlabel\": {\"namelength\": 0}, \"hovertemplate\": \"PC 1=%{x}<br>PC 2=%{y}<br>PC 3=%{z}<br>color=%{marker.color}\", \"legendgroup\": \"\", \"marker\": {\"color\": [1, 1, 1, 1, 1, 1, 1, 1, 1, 1, 1, 1, 1, 1, 1, 1, 1, 1, 1, 0, 0, 0, 1, 1, 1, 1, 1, 1, 1, 1, 1, 1, 1, 1, 1, 1, 1, 0, 1, 1, 1, 1, 1, 1, 1, 1, 0, 1, 0, 0, 0, 0, 0, 1, 1, 0, 1, 1, 0, 0, 0, 0, 1, 0, 1, 1, 0, 0, 0, 0, 1, 0, 1, 1, 0, 1, 0, 1, 1, 0, 0, 0, 1, 1, 0, 1, 1, 1, 0, 0, 0, 1, 0, 0, 1, 1, 0, 0, 0, 1, 1, 0, 0, 0, 0, 1, 0, 0, 1, 0, 0, 0, 0, 0, 0, 0, 0, 1, 1, 1, 0, 1, 1, 0, 0, 0, 1, 1, 0, 1, 0, 1, 1, 0, 1, 1, 0, 0, 1, 0, 0, 1, 0, 0, 0, 0, 1, 0, 0, 0, 0, 0, 0, 0, 0, 0, 1, 0, 0, 0, 0, 1, 1, 0, 1, 0, 0, 1, 1, 0, 0, 1, 1, 0, 0, 0, 0, 1, 0, 0, 1, 1, 1, 0, 1, 0, 1, 0, 0, 0, 1, 0, 0, 1, 1, 0, 1, 1, 1, 1, 0, 1, 1, 1, 0, 1, 0, 1, 0, 0, 1, 0, 1, 1, 1, 1, 0, 0, 1, 1, 0, 0, 0, 1, 0, 0, 0, 0, 0, 1, 1, 0, 0, 1, 0, 0, 1, 1, 0, 1, 0, 0, 0, 0, 1, 0, 0, 0, 0, 0, 1, 0, 1, 1, 1, 1, 1, 1, 1, 1, 1, 1, 1, 1, 1, 1, 0, 0, 0, 0, 0, 0, 1, 0, 1, 0, 0, 1, 0, 0, 1, 0, 1, 1, 0, 0, 0, 0, 0, 0, 0, 0, 0, 0, 0, 0, 0, 1, 0, 0, 1, 0, 1, 0, 0, 0, 0, 0, 0, 0, 0, 0, 0, 0, 0, 0, 0, 1, 0, 0, 0, 1, 0, 1, 0, 0, 0, 0, 1, 1, 1, 0, 0, 0, 0, 1, 0, 1, 0, 1, 0, 0, 0, 1, 0, 0, 0, 0, 0, 0, 0, 1, 1, 1, 0, 0, 0, 0, 0, 0, 0, 0, 0, 0, 0, 1, 1, 0, 1, 1, 1, 0, 1, 1, 0, 0, 0, 0, 0, 1, 0, 0, 0, 0, 0, 1, 0, 0, 0, 1, 0, 0, 1, 1, 0, 0, 0, 0, 0, 0, 1, 0, 0, 0, 0, 0, 0, 0, 1, 0, 0, 0, 0, 0, 1, 0, 0, 1, 0, 0, 0, 0, 0, 0, 0, 0, 0, 0, 0, 0, 1, 0, 1, 1, 0, 1, 0, 0, 0, 0, 0, 1, 0, 0, 1, 0, 1, 0, 0, 1, 0, 1, 0, 0, 0, 0, 0, 0, 0, 0, 1, 1, 0, 0, 0, 0, 0, 0, 1, 0, 0, 0, 0, 0, 0, 0, 0, 0, 0, 1, 0, 0, 0, 0, 0, 0, 0, 1, 0, 1, 0, 0, 1, 0, 0, 0, 0, 0, 1, 1, 0, 1, 0, 1, 0, 0, 0, 0, 0, 1, 0, 0, 1, 0, 1, 0, 1, 1, 0, 0, 0, 1, 0, 0, 0, 0, 0, 0, 0, 0, 0, 0, 0, 1, 0, 1, 1, 0, 0, 0, 0, 0, 0, 0, 0, 0, 0, 0, 0, 0, 0, 0, 0, 0, 0, 0, 0, 0, 0, 0, 0, 0, 1, 1, 1, 1, 1, 1, 0], \"coloraxis\": \"coloraxis\", \"symbol\": \"circle\"}, \"mode\": \"markers\", \"name\": \"\", \"scene\": \"scene\", \"showlegend\": false, \"type\": \"scatter3d\", \"x\": [8.116322962296493, 1.3657361134559745, 4.901412679174558, 7.333376774563786, 3.3213980181456773, 2.7187780088922144, 1.6519661707611097, 2.251629075021602, 3.2899557390991525, 7.426808828097424, -1.084990086238341, 2.3701249932104065, 7.7213278408834265, 0.17487852786304622, 5.083664975313272, 4.140306249799141, 0.13065640323600763, 4.2281504116430275, 3.9561624475445165, -1.2297349781954552, -1.5086952073525512, -3.0782727345932765, 4.385067406680223, 2.8699685204380336, 4.044482479522158, 6.114791307196084, 3.584868646630461, 2.622182855725632, 3.9056722413855094, 1.392417389929536, 5.311846029322831, 2.8840139201192616, 4.112022665289076, 4.3844074295291415, 2.702878499165235, 2.1360825670343053, 1.4240877168060841, -3.492647680344564, -1.1048086449656311, 1.276420311304176, -2.2553323395160416, 0.5099934967592281, 8.247312768400768, 0.9971977937589992, -0.13366873687430647, 4.878362698936188, -4.251116457504374, 1.853396491919811, -1.8200298120361154, -1.5275729212015992, -3.3556919835438355, -2.853061681318325, -3.424921412804039, 2.5550649132467163, -0.7018041842887753, -2.981239493461087, 3.5625642693752044, 2.123302552978654, -3.90932716488358, -3.6715154411361155, -2.84211824630298, -2.0812280800732386, 5.286527213006177, -2.277914645188553, 1.9551497021510225, 1.8655660101950202, -2.22188169182982, -3.173469185205568, 5.474722586506353, -3.0771480133865308, 1.8936846590418328, 0.8869086301687992, 5.351288367542838, -0.006796927906999867, -2.4338197480160426, 1.063564489193963, -0.9424259469707618, 5.458691857939465, 10.391806044708158, -1.828072889519012, -1.2482811054048604, 1.5754264399458693, 9.941255084215513, 5.128748310128485, -2.2303927294802564, 2.2892110043640477, 0.5046042705327363, 2.777120162654563, -0.678993253534642, 1.1966038922677713, -1.6399424534335627, 0.3725338552174761, -2.7070107578104037, -1.8525017393111345, 2.9873667026823463, 3.269731039279657, -2.375396322845384, -3.124728804235709, -2.4618771664678016, 0.8727680897508927, -0.3277253073535405, -4.094801434010494, -3.353065503742912, -1.5670494782208864, -2.6342434268077017, 3.8742783974095594, -0.21798487664041846, -2.9529907227745205, 11.775534962889857, -1.699531583403762, -1.8779832535249066, 0.6173134095804383, 4.565032960907181, -0.6517570095061261, -1.7066443924274468, -1.6360224269754822, -0.8068501495934906, 3.075899577550576, 5.074608924168131, -0.5661069287212119, -2.6537617807059077, 2.649777155476475, 11.355556222880644, -0.7362370767113161, -1.6596268170600201, -3.071986676970218, -0.639290906016276, 0.9749019739460271, 1.604933403348615, 3.937203048189793, -1.7889927938776824, 1.2555498088320194, 0.8440444710498183, -0.8689773003091631, 1.520932056585546, -1.7150027999062012, -1.9678746221553058, -2.9918723158660385, 3.375360506976972, -1.4239087097324412, -4.98851533477699, 0.9574099700089385, -2.056473584845809, -1.8519614181903117, -3.9292381840878488, -0.3081074798550902, 1.8868901758764551, 0.4956071306115882, -0.1895263825119441, -2.9204894600430924, -1.9276135674531178, 1.015954682270137, 8.596528607771077, -3.645942022407847, -1.0302922210064434, -2.3995324457572624, 3.842581210942321, -1.192388898298768, -3.3870844039677634, -4.467792618601781, -0.5003896916028221, 2.5691652922657187, 5.102838858762293, -0.664965198509183, 3.9836940974955004, -3.1127285154393443, -3.786576431774285, 0.6974478179629053, 4.881679541622977, -2.039493285066536, -2.4551708264330507, -1.0035879577898585, 2.8583463546118426, -2.912189178896214, -4.776605650005059, -5.044086955935088, 2.36767521052281, 3.19721540134644, -4.9541577564022, -3.7080174389513707, 7.60904372709841, 8.191566942413761, 0.5079501089151587, -1.8100931685700814, -0.40924724348375036, -3.731640890072859, -0.17061125273812688, -2.4672096430550177, -3.2819872134284576, -3.2093887502537366, 6.844213145660221, -1.638769964000447, -5.378308489909883, 2.2369846398356854, 3.0790647701233977, -2.860846260445532, 2.8252767273716013, 0.805772232702424, 2.927582517614323, 0.9807889149026701, -1.3248852543426162, 1.5147827459031837, 8.218647337451266, 4.467641378086477, -0.6400062685780096, -0.2636173481420596, -3.207370575936569, -0.4053426768187546, 0.47881604347457546, -1.927484960479615, 3.8917882251431393, -2.6254149094800474, 8.783882486736891, 4.172077711337004, 2.194610479271551, 1.4697965469057346, -0.12316012865778694, -2.551809540659573, 3.742835790710528, 3.3396167822686804, -1.977382308897727, -0.9163809367150094, -2.714526217247141, 1.5695153389227148, -2.2828750442410164, -1.2678995403341784, -3.5651063294211616, -0.3633150809263078, -1.0217571380294679, 3.271796318329604, 3.1365123666752424, -3.9674850133429707, -3.6520548886788475, 2.7449828101233207, -3.5676854807990708, -2.0743816785259055, 6.750102114053535, 2.0194626728194174, -0.10721591893299022, 3.1716285383183713, -2.1934437127662734, -4.448083807348304, 2.072936001167112, -1.9869295005153895, 3.313798358710899, -1.925747682759248, -3.0629864034137246, 1.895256177558877, -2.4545391906078313, -2.2282472879463766, 5.956449927892515, -2.9997309038542643, 6.9020447700101055, 1.0051007429995815, 2.87149323512678, 0.5073776350208038, 5.738720097815334, 5.467708888088245, 8.581454471169533, 3.8896850231088096, 2.5814911737729886, -1.2281973251265537, 2.642167367636078, -2.059277189862938, 1.1064620620870533, 4.565734800832798, -1.2103417024869403, -1.850602263033698, -2.512626719901399, 0.042593350128247984, -4.614475948284618, -2.8666730936557974, 6.5174548392841505, -3.4375789595884414, 0.006186413299687921, -1.114016765354756, -4.425299479092021, -0.4264290526639939, -3.501645154495372, -2.0452581997135693, 4.439574000379985, -2.720294559504449, 3.127903354212611, 2.8815565179930576, -0.7465297628638995, -4.199900930151056, 0.014762627270364304, -4.068217195332631, 0.533338989506755, -3.1219947097378857, 3.7167198831034978, -0.45039216833068235, -1.230614362847799, -2.8092621627651573, -3.111696429105633, -3.3661268513158964, -4.408416527281092, -2.093455828322682, -2.8640275185030077, -3.023288724113435, 5.801784297635169, -1.2091468330932398, 6.295578745720049, -2.911549569988084, -2.5393016879000023, -3.191798497243027, -3.8252534242378937, -5.26055580474105, -4.657927193758735, -3.973536912375316, -3.4489043452469783, -3.564965328386759, -1.8356376992985923, -4.097424239097965, -3.7294846650883415, -4.497822025255801, -4.720367797383313, 1.4401459307954467, 2.352165731811829, -3.880754043237222, -0.5852626221381051, 0.6630578444571087, -1.2869711231433059, 5.813427765255648, -2.941072195232277, -2.7540608246069644, -2.9437643738308195, -4.343386775986673, 2.1160599876964934, 2.0121277107015803, 1.8395019344394352, -0.3680346718602227, -3.3291882083265807, -4.348360851259659, -3.5952722606429317, 3.0332986455056297, -1.9615925236414886, 3.865323995699869, -2.786513264162109, 5.625892933070644, 0.3164043242268581, -1.4421638828678753, -1.7249772905980398, 4.03311387478287, -2.034065265759338, -1.780697998761811, -3.192329034603172, -1.2669440840504163, -3.0049007893241257, -2.1423575083889466, -4.067239130704078, 6.126164580632079, 8.987688248938287, 2.276687502941611, -2.8027826127147253, -0.393589544421699, 0.6161156970648048, -3.039216214953023, -2.632375765830333, -2.6964830175727674, -4.639851349128839, -2.4647167868572883, -2.229227589039937, -0.8305715151358678, -3.071466169996408, 1.974210248517535, 5.450547922719123, -2.121634569311813, 3.089868432189202, 6.181650926423818, 3.7019496541141863, -2.618939664340816, 3.057673794552374, 2.7402485661335763, -2.813308301589898, -0.2312730601449486, 3.2463463953029956, -2.9132774223706517, -1.5262226246222264, 4.584583790447426, -0.6251059246708931, -3.258070925754462, -0.6407805628356978, 0.13831630847439938, -2.0892593251413674, -0.3795975846363826, -1.6900846012084056, -3.522625962885862, 0.4618762784771702, 4.394461521930948, -3.3808242604453413, -3.1877523467102553, 4.091099354390565, 6.732198635214934, -1.9325377889600228, -2.869951141016777, -0.17339811752993686, -1.506066396162894, -3.3888471606939263, -2.587028411371428, 6.424527764467639, -3.1832590632860427, -2.067217948447525, -2.407758754570776, -3.576739910953954, -1.757239625708702, -1.3286299640921055, -1.0585531794672294, 2.383405599065854, -2.1285317956754493, -2.6366046530955947, -2.6398958403740393, -3.170744952755372, 0.061114906696803084, -1.4492539179444544, -1.836794807620248, -2.351724954471105, 5.251656955027652, -2.6702776386010303, -3.159622543258083, -1.886681982384065, 2.131655478801385, -1.3274026879169243, -0.10904960645730823, -2.0205186548745067, -4.321749735945791, -0.8243118596293407, -2.1687466412527185, -4.342432253996419, -3.788611549127844, 5.675874431961638, -0.346007318436553, 4.217047930580046, 3.761538682237444, -2.1713665687031423, 0.9970781974991932, -2.371946544559599, -2.2098701051131058, -2.6170365791766694, -3.1017683685685586, 0.6295841661634386, 2.5199393412396307, -3.242378801245291, -3.9370197188433256, 0.6682245502612326, -0.8325720183300553, 3.0825550924905394, -1.9083581012293918, -1.0236578098271245, 3.663836196909893, -0.20781799733431258, 2.168018918955807, -1.739819323284195, -1.0544934803196544, -2.8919991366124633, -1.4853111874433134, -1.016202337001889, -2.624653989166706, -3.059983107301835, -3.611243098577816, 2.8009448406912774, 12.19905105793051, -2.577062899799287, -2.701356901843258, -2.4395883697687126, 2.0947265191066897, 0.05039927354853449, -3.609324122923863, 6.0964947796118425, 1.3126578694308826, -2.6175268450759455, -1.9800921620861105, -1.4225519581396762, -3.586363598284005, -1.38891052310439, -1.7781920157973237, -0.2419880338159762, -3.293135407190948, -1.8280619742893605, 3.9304640010239953, -2.565485119420277, -2.443009014604444, -1.096814035174032, -2.1284155457050256, 0.15267527261564529, 2.856936703196575, -2.1717018029978505, 4.204601996929223, -1.491196255662143, -1.5552922403407698, -2.7509419654758362, -1.9132311256615173, 2.26815590150986, -3.970331466314317, -2.793711303731312, -1.297648591664919, 0.2362199469277459, -2.3078767481144515, 3.256865971253829, 4.607405289657903, -0.386175061221595, 2.9226547472001068, -1.278864448773503, 5.553951658200897, 2.1887604701622956, 2.217019523349578, -0.9113172846724289, -0.6168728518026155, -1.1883955144983118, 4.668278873315941, -1.2295136818901118, -2.819314115215553, 2.3861571615563206, -1.1958375471215388, -0.6484932527751086, -2.1938693758728216, 2.121784597727686, 2.9062087640317156, 0.22102835241347957, -1.1677876663608044, -1.035580050101305, 7.044222483416453, -4.173222859217891, -0.35023862357110663, -2.5373123440466205, -2.6798403774873125, -0.7228828847863314, -3.031519110472182, 0.6800536423252319, -2.161172497248438, -1.081433388080812, -1.5173414883014058, -2.643836863852833, 2.8058711522434105, -1.3695745290823929, 4.203516979404409, 0.837832077690218, 0.9317062288986518, -3.873421790297627, -0.17297620485711004, -1.0637944263174648, 1.2243114448291315, -1.4406027517387276, -2.1917852380521956, -1.3212159212656909, -1.8895592361224405, -4.040167503321914, -2.0328113015248235, -3.390875129319976, -2.5693933770453925, -4.604446182962966, -1.8960000189823785, -2.660359384601871, -3.035558259754915, -1.779631128403346, -1.240006849827594, -3.4962085106940566, -3.850622340430904, 0.4588441128392072, -0.14521075403744296, -0.05737511803858636, -4.279761889062336, 6.362713950580587, 8.098335988431314, 5.495313789442408, 2.9760863600125305, 1.3271260307790353, 9.85613953485018, -5.282603300960028], \"y\": [0.8583305823444574, -3.192361643536922, -1.5461801439323495, 7.358344620920266, -1.4640890934364306, 3.1838455637791783, -2.5959367411918555, 2.0046929447799458, 2.104716835550702, 6.585755472873391, -2.290308970201531, -0.2876094118703729, 1.5533976366890596, -1.2521797601905835, 3.965419498087403, 1.8566773735250446, -1.3832411569276217, 0.7583748705373374, -3.6100849229377125, -0.2473873711958737, 0.46253744948286063, 1.9807262949525202, 1.6546585207242848, -4.560341098207517, -1.6901827200631045, 0.6699105991774075, 1.0742532821565969, -1.5765423523437354, -0.2745568071723245, -1.3504804353842594, -1.3400248938754078, 2.9045519826757764, -0.4140473740041888, -1.3545504390974386, 0.14464946180153299, -1.2700295891629705, 0.3904361208304856, -0.9929273830123014, -2.4616574303696765, 0.746225574061073, -1.8783703787254626, 2.0135187899014486, 0.13709533696561524, 0.505878475191546, -0.42443351504102217, -0.6981531095474872, 1.549199243777731, 1.6281218906292432, 0.34569570763200513, -1.2781919175726464, -0.9660712146455825, -0.996907735424535, -0.3554148750525713, -1.430737898035533, -1.8282287421251642, -0.1893473578686149, -2.3019929671890047, 0.3801793236076441, -1.4654619584765467, 2.7055341217935833, 1.7462342347455755, 2.902835377264666, 2.603316977689131, 2.547036406727815, 1.1074133048871395, 0.23524368201947435, 2.393608298139434, -0.30653018728772, 7.890907893814636, -0.5950247851659796, -3.9352122382535577, 7.898867603659208, 0.6544054551029507, 0.3589135701312074, -0.40385868621628324, -1.7460830083598355, 1.7340282395242497, 0.4787020077683677, 1.650952231582028, -0.11581739564601265, 1.8196898344607595, 1.9364241986315496, -1.9832561714658214, 0.6935388831463288, 0.22740096933684226, -2.0376000092309603, -0.25726901425521553, -2.7096010742857306, 0.7163755208252875, 0.5560903666969355, -1.4461127049135107, -0.6109696296746595, -2.1026255183019984, -0.7742957829576215, 0.35459271586280494, -2.5479071369604718, 0.36066986247159655, 2.04495365803987, 0.7024757842068888, 0.6101206864522114, -1.2402129667803927, 3.683051442320884, -1.2093426391789721, 1.8284672827139241, 1.113146431127267, 3.7233622278285985, 1.7939704488437482, -0.7878171245545684, -0.2983657702855839, 0.9727164417437123, 2.756146177637729, 2.4120624177937486, 3.7307744989193288, 3.6734912587276374, 3.4948749074237164, 0.6807456382195309, 4.477603165409222, 0.9633947713853157, 1.9356502912647857, -3.5839659615503208, 0.6771896062837054, -1.2466519417075415, 1.5827420207217584, -0.07023938940296517, -0.06099017941944152, -1.3194977818735323, -1.1158527732302375, -3.4357224222381633, 1.0655093734740164, -1.9390230819595586, 1.1917588419758942, -1.1428604442374424, -1.5621913757399974, -1.4362433343990038, -2.5981734377571173, -0.20872967683121904, 0.33602506889965433, -0.19824568182873956, -0.2422666878467547, 1.7342499196350802, 0.7563710656911732, -1.1568247126212106, 1.0874862918467483, -0.26554037975725014, -0.22640066366551073, 3.6092971372983684, 2.4380315071074605, 0.956683630445776, -0.2781258861930205, -1.6497997915653948, -0.43977627914051853, 6.770657732699879, 11.792271593230808, 0.37460519496720274, 0.5912983120886125, -0.08695201750556357, -0.3749759985055654, -2.8121066839556526, -0.15588941905297565, -0.4817495810414634, 1.2671854005432797, -2.7817741445141375, -2.2730602976648293, 1.862208334483153, -3.926109396310852, -2.3750935239541846, 0.9210881418142004, -2.0219163137257694, -1.3336492607040566, -1.50073452253118, 0.14962518516274084, -1.4637659013227062, 0.9590364057125621, 2.1493101552812033, -0.2448643701596858, 1.3723008928210825, 6.978853805715254, 0.41735627464216823, -2.7319093892244344, -0.20378154616464772, -5.060570659414021, -0.42128077696174693, -1.5911569422929943, 1.3404157154661311, -0.918307287525463, 1.1068295954455676, -3.3034940621130717, -0.08781065027350349, 0.01395267654466221, -0.8247049376409549, 5.956946751645427, -0.49859314281782935, -0.26842912337309827, 2.3466832915069555, 1.0320273244703628, -0.9170785861159947, 1.841976628793398, -2.120096927172819, -2.2591797282176684, -0.3296241789570159, 0.11313732710166995, -1.9521234820796738, -1.1906753638392162, 2.004391051730252, 0.5363023717249554, -0.5648475603669012, 1.2664534778669316, -2.9725726665035483, 1.4388351781476267, -1.689859789076908, -3.2287792750428044, 0.007793766003590561, -6.097758876578224, 3.605339659468141, 1.0385038154354431, 1.5729899199098183, 1.8025805618216895, 0.9617971029110548, -2.8416556386980987, -4.054909229437874, -0.05888836641880593, 0.3182494863322238, 1.6910981654324904, -0.3401305968794584, -0.9303889182630288, -1.4448841130745134, 0.8936060503446677, -0.6287745804108184, 0.0006909591299868299, 2.7568514147147245, -0.5811307899010025, -1.3131624512105435, -1.3937676606174647, -3.3730803232563127, 1.5279329585235213, -0.7634085312505784, -3.8312390541445502, -3.1239951631826637, -0.5885964513712317, -2.4547333768683783, -0.9699811298518101, -1.3240122724829857, 4.342663388043, -1.6165841864512256, -1.2228322651286168, 1.932878752116332, -0.8004562478636642, 2.5103873579479496, 0.45579941700224774, 0.5702928811972241, -2.4186780167171786, -0.6458333621586564, 0.7273927096842296, -1.8052504205692808, -2.6692494812477165, 0.13510045439442103, -1.992902649467577, 3.1263264943425675, 2.202687167964321, 0.2825305388412112, -3.321126566237041, -2.948163103084559, -1.3712731450382591, -2.6655282144085555, -2.5095758807704236, -5.169393199604296, 1.2054199977308382, -0.8901253204998001, -0.35376369297373567, 3.138728662831643, -2.522797934701086, 0.6559598321826078, -2.7371944070018936, 1.7487977463334599, -2.669841483240693, 0.7919154741095914, -0.1870906758803016, -3.0433765257406487, -2.0827545146216475, -1.0257649525777153, -1.5312725987723037, -0.43125235710915344, -2.1572131533324277, 0.37393984428072247, 0.4859579952356837, -1.090112769342552, 1.9295979649094788, -1.2096767751784099, 2.9333759218861344, -0.11390850627606455, 4.31080095146515, -0.877859379792319, 1.293161933358328, -0.29503753765787805, -0.2961607673464314, -1.112147171457099, -0.09283638503626564, -0.3041164764833714, -2.0722810250804984, 0.7728449604086088, -1.3457519566398628, 0.5035742595562492, -0.45123751514054106, 1.4451693695162018, 0.3735484983862304, -0.7294207169835528, -0.9778155678382882, 0.7293893579699144, -2.207293882047747, -1.7245930055390133, -0.2913723700786562, -2.606514732365666, 0.420092010370471, -0.16387639287299716, 3.697950298562005, -1.3656742915388091, -1.303701852277555, -2.21249598159651, 5.617881797385305, -1.0001198590209723, 3.551556866185914, -4.244276483136513, 0.8942381979067278, -1.5868087899599772, -0.3147355050191392, -0.2679363591043351, -0.905358159131168, -1.0534642649527575, -0.6068483317332082, 0.7096228216963818, -0.35570966475282584, 0.8940730194237244, 0.6186020202753527, -0.4254120715037328, -0.47243182557389823, -1.5394705735793022, 1.518558332030522, -1.193567467580002, 1.1254751260891598, -4.5341547683326855, 0.06710201200427535, 2.3938993440619734, 1.6799387201996885, -2.401129100243482, 0.9885218292299914, 3.660646861662519, -0.2480725502500664, -1.148348530207796, 0.8308008388399363, 0.9142322534039521, -1.056463090236733, 3.216480726155452, -3.7047229134041193, 0.3350518398396638, 0.35463452900243175, 1.0049257365449125, 1.5959080164214903, -1.2045411493724656, 1.6559599006303378, 1.0112540940858514, -2.203835164089829, -1.0970783920422809, -0.1463435179347865, -1.63259870609725, -1.086818324123753, -3.458413595522097, -2.042856473500841, -0.36994233986917663, -5.3969318639143555, -3.523851599628108, -0.16571776039364233, -1.6061216825594617, -1.9225703730724837, -3.3184108325105304, -1.1533942232987784, -0.3055382698308375, 6.16012287551026, -1.7805352983804932, 0.2876805205825123, 4.802525908551434, 1.9415268536157162, 0.0946920557012929, 1.3562929334549654, 2.19667130668152, -0.6428935213933438, -1.1752576531003855, 0.5390509710198924, -1.9542853689767476, 4.2568306624493655, -0.44408052368904194, 0.9459423889462136, 3.0348610313714617, 0.3887898064245869, -1.5020063442917777, 0.3098063530874044, -1.3551052055138357, 0.10435965001628397, -0.23168585127345134, 0.2604457333520355, -0.015753430852223076, 1.3347349054315323, -0.4107540039667748, -0.5216672690251287, -0.3581015818439499, -0.9485455379610832, 1.0706047955193536, -1.7150029630739279, 0.6091143159574037, -1.1982344194194876, -0.5592877423440032, -0.2977891173014022, 0.48674247948210725, 1.550229893237046, -0.7062912550363537, -2.4814116200710474, 0.6626890441401703, 2.3062548415963846, -0.17661730072603463, 0.44400850368141004, -0.004451718667677779, 0.6398158003225067, 1.99836094244214, 0.7557596464769918, 0.030297213113825418, 1.9193527456781063, 0.08301545834916957, 2.420814185300798, 0.2151283464360064, -0.2593974414785383, -1.4355466018487644, 2.2779018893297667, 2.5759390544366463, -0.9785511855649186, -1.078919832298545, -1.3475640606529586, 0.34823117992871255, -0.5746876115008469, -0.915610910877013, -1.4678499172192947, -1.5854891566959948, 2.397332583946437, -1.2285410511199186, -1.190931543046936, 0.7112653726094887, -1.9685261944713714, 0.9959903257351228, -1.9102536896837503, -1.2567604825751355, -1.2037164378267358, -3.447288578932553, 2.1874090555722128, -2.1755467658836927, 0.22907368157411076, -0.29311922830670323, -0.9944332316355813, -1.146699571926327, 0.5129024159147058, -1.3314533624938367, -1.6767437628977102, -0.17710580264992784, -1.5656353953583062, -6.0737753984666005, -2.1799238866687873, 0.05967566215836439, -1.1976723911537122, 2.1506381380120234, 0.29569789849159134, 1.0148798109208559, 1.49071025940346, 3.3308620930230606, 1.1754663004431753, -0.8492660173645858, -1.425087674457447, -1.1838223141898803, 2.096165215688742, -0.11737426997186451, -0.7345572295890418, -1.7824832517229339, 1.373916889276267, 1.5266207463749872, -0.19375045630170212, -1.8122807462839856, 0.48096041786514954, -1.010531719662542, -0.008526968178344512, 3.7109680655284762, -1.9216484129870013, -1.6363014450903768, 1.006670495877299, -2.8580510682721676, -0.7524930366516024, -3.4202352481763145, -1.6126699802162459, -0.06897717533840372, -0.8452025144994312, -1.2935868916003272, 1.4335217437107475, -0.5598957404919003, -0.6838758277765611, -1.8015351832354685, -0.3442842089508497, 2.562445540233918, 1.2160664090406705, -4.800839592227272, 7.219485005922321, 8.235164302593788, 1.5133382527156376, 4.189549949691578, -1.1792845370867486, 2.316323415383523, 1.997530360311116, -1.6520285900895608, 1.2703218980889066, -1.1365701615027914, -1.474240034469532, 0.5759311286424741, -1.8993496818109934, -2.007372223099912, 1.1379136908348353, 0.8540048208737374, 4.264182176057216, -3.282072679055819, -0.3399965770650853, 0.7135374459437896, 1.8198589425412688, 2.9879232586992868, -0.005173833548927276, -0.6211297342057351, 1.771633974003821, 0.8588343728200768, 0.6113658977692233, 0.7218225221412932, -1.0308098891277062, -3.322208440511844, 1.9250830988265122, -2.6587460762535646, 0.16910328173551903, 3.3016074320089976, 2.395210231167712, 5.538437540216051, 2.740153103036814, 0.7794771474564253, -1.8497891632644332, -1.5509558949596884, 0.24372115339656208, -0.9717741121517467, 0.476899144407225, 2.5293826652254823, 0.8285243618545771, 0.021920551523178636, -0.5520248741116415, 0.7996289758789054, -1.1642503919723464, 1.7860588903739891, -0.5694883546075364, 1.8817049545293991, 1.344162996703991, 0.1741557572688001, 0.08371955372948785, 1.6901284900189837, 0.012714187745729097, -1.2298021251271125, 2.0930244428389853, -1.0833162797109608, -2.843982914690508, -3.3983756019834477, -1.588462325161776, 0.26964450308947796, -0.5179494540225829], \"z\": [-2.0780204563330678, -0.5866602293015478, -0.5905039697440835, -3.4275468275670757, 0.47379727610844236, -3.031600377501951, -1.3485942126289328, -0.705863273706962, -2.4936610231034475, -3.1874373740323407, 0.21995684951601263, -1.2091051787824671, 5.529639243460633, 1.7769855446315757, -2.29492778170712, -1.9802983169325612, -0.4050453484049385, -1.9353302997264876, -0.21952439739329827, -0.891903190305287, -1.8734488095802664, -0.3212735790659769, -1.7215416680505229, -0.20173296959142553, -1.448767865825484, -0.3270790821207286, -2.825733923583391, 2.2377024166208983, -1.7924588660744036, -0.36037995064899675, 0.07139369954265805, -2.4231855327702325, -0.3641192868475766, -1.8777817614353653, -2.9013352041719993, -1.151263680418437, -0.9886705617177083, 1.4384658173164404, 4.311405191045759, -2.5583771398861637, -0.4787598913035575, -1.4700693502304776, 2.2044886490504827, -1.8659974801040748, -2.449407746798812, -1.9108711397031541, -0.15264394797825917, -2.6809553347240866, -1.7350298500331303, 0.3047013686478813, 0.8943373437338579, -0.4890136724329477, -0.23517212113021282, 0.32334579357065824, -0.8661383111357933, 0.14761051415255008, -0.6722203564783473, -1.4028261752829194, 1.1402189155284412, -1.8833871930626258, 0.3731816596889488, 1.038822247821731, -0.07661415553651735, 2.3088212158624546, -1.259046632092303, -1.0146999933825829, 0.6749695146845787, 0.3786064597661788, 1.3897082674329888, -0.33960402238871074, 0.2602039995082342, 2.720799280308734, -1.6634826628720438, -2.280927942243328, -0.5135564302155466, 0.9886439914830871, -0.37352038451533226, -0.6750385297949089, 0.9887166080991155, -0.6062911818998268, 0.7387038086347517, -1.8869213232229824, 0.11467209960053716, 2.464388302727572, -0.7018228574359221, 0.31185983346724605, 2.069184621657717, -0.901726948583628, 0.44854169282778333, -0.5844088399974798, 0.49832737944825595, 0.4510274645253003, 0.4445176541924583, -0.06934590572326448, -0.602464820380152, 1.0265568188660672, 0.589264827376185, 1.2901536466419954, -1.8187300846738657, 0.24947946820057607, 0.5187700561452951, -0.9725021205416329, 0.6195366645923255, -0.4358517678049086, 0.8045423623343468, -3.141604352528512, -0.40764250957172765, -0.985586051487047, 0.1348055185610708, -0.8294259381573468, 0.7770934287689409, 1.9497375874756926, 1.899470848606027, 1.388230573710311, -2.1593037879094075, -0.426804145760068, 2.558504328872452, -2.4819263031743257, -1.652925856506007, 0.7009696259428471, -2.4106243677605095, 0.4017935163211231, 4.723972385043171, -1.7340760049739825, 0.3336567059508379, -0.6457946427831484, -1.081772265388106, 1.3590376534364494, -0.05577162890431507, -0.4164652670238319, -1.5458678248541455, -1.2324651880328774, -0.48023783175028606, -0.9356743137969696, -0.12980376048250558, 0.17725357841512251, 1.6714772355510275, -0.7185429489637589, 2.2711155764231408, 0.40003738024658775, -1.4435469667981822, 0.37771372780278034, 0.1458713317362589, -1.3404758968709551, 0.44388713562965015, -0.5024935209856385, -1.0110403043709464, 2.053347831540845, -1.2353132773778923, -0.40812874351547646, 0.43834213431361263, 0.3364555385013029, 7.020222804646477, -0.722973201767323, -1.0310547610073981, -0.512437728131845, 1.1061609250460605, 2.0133416692923034, -1.28164779307739, -0.5218561789156575, 1.184120264024648, 1.7565604895313627, -1.4558311767105656, 0.8422642687448305, -0.2566481087192685, 0.041337021802641365, -1.9107974574082753, 0.9906674288976951, 1.1037995320903446, -0.29080340004990024, -1.0395643497850247, -0.03103514180479588, -2.7916373366960836, 1.554123873766705, 1.0191052538777856, -0.4707813763311919, 3.609625941495611, -0.6742932227832278, 0.9406275923642122, -0.017102051846666792, -0.6224678738392442, -2.430851434563058, -0.8453742276035684, 0.8871346145797692, -1.9769162204365296, 0.53588514173816, -1.6937388404056157, -0.6669857005135025, 0.4704971660431573, -0.11503253421469549, 0.29606391082539524, 2.6807187114671422, 3.9219138717870474, -0.11282637413858088, -0.18034670042171086, -0.21391811310311096, 1.3635290608082211, 2.467097626255384, -0.5335316494049916, -2.7286575049008, 0.039190303691615684, -0.8146545747573182, 0.6217420150365371, -1.310634930047122, -0.5841372943698595, -2.199722057679023, -0.1667767838706338, 0.551036526696918, -1.5320234058637574, -1.7888360945849575, 2.421014399010993, -0.5721001665605056, 5.912499793272095, 6.7713683449761115, 0.7377443900635385, -1.4496332639747542, 0.7937732211058828, 1.853382365222854, 0.9291975944058828, 1.0169142255998391, -2.1102845775471444, -1.8297245270605607, -0.5440479043898281, -1.9594095297898078, -0.3444013037640708, -0.2255183539592097, -1.169995071710911, -1.266324528711721, -0.37458883199970394, -2.021426008377666, -2.7147515509789133, 0.6972328554146205, 1.8459532421720046, 0.4307899805839911, -0.31986213129705626, 0.5615248833018192, 0.2645122232009969, 1.354622996460937, 2.1730299051034985, 0.35629389283773655, -0.620399560138571, -0.8822793715680802, -0.23877840042237145, 1.3772659924003794, 1.1449687406288804, 2.1950897655328747, 0.6244790536182929, -1.792887403474738, 0.21730773942586323, -0.8329622088621434, 0.8880101458911243, 0.07413121415574196, -1.5716972249475916, -1.4537612644867435, -1.5877094099374942, -1.2523663140491763, 0.8654507447446166, -1.2451812595249343, 2.8613298055525065, -1.7483735646933398, -0.802751515514776, 0.6264090710667098, 2.5928347538588774, -0.3835233631967435, -1.407312808339276, 1.6446884458668742, 0.6575354387607187, 1.737856476910872, -0.2899551669504958, 1.1750820963611117, -0.08735242510997591, -1.6093261175796107, 1.1689863409882475, 0.6199862761297851, 0.4605909639871675, 2.2853903738588324, 0.002609632544278402, 0.2656334832346434, 0.1391136461215296, -0.7694496904997258, -0.7980401907849404, 1.391701346905972, -1.3622382599476461, -1.924972254134835, 1.2394128244183555, 0.6409217483180267, 1.1763291563594487, -0.6692319578166823, 4.53207699576988, 1.298687541375015, 4.873197164582296, -0.7775947670370783, -1.1880513075042813, -0.13208297489355048, -1.242155818327748, -1.0738379389037547, -0.10080938539092732, 1.7298166152130416, -0.44386503730161464, 1.0890652774997769, -0.12733209675804083, 0.9218847535787509, 1.8223814681547517, 0.016298902293907572, 0.28275847226333645, 1.8179890513104062, -1.2026678871923902, 0.3117275011885654, -0.43750447985087826, -0.12741050666118092, 0.16039195774106751, 0.15769898048081124, -0.5437406236196746, -1.6851724108892205, 2.674573932678499, -0.5449364101047254, -0.3355900295079064, -1.6067531827574077, 1.8316003543049693, 2.457611856110631, 0.44946165151298084, 0.28608436375743335, -1.6320469956244696, -1.9291423681492206, -0.9300438786771347, -0.7807844627843489, -0.5783890319906838, -0.044177274553109706, -0.7717875534405191, 0.9224908134043497, -1.72837417809178, -0.9822114545606592, 1.1721480278180572, -0.42597170615761515, 0.6356889350451651, 1.4468012856902308, -1.287330920147131, 0.24391553482966888, 0.5145289675259258, 0.04566497858576809, -1.1811625373983932, -0.8656885900692696, -1.4802042428853275, 1.328368011613062, -0.790900928871344, 2.524931263206467, -0.0408055238923003, -1.3064512267805999, -1.1245847299089273, -0.6525514784904973, 0.2924644379168897, -0.3502228645228706, -1.4646188833077247, 0.9939811293650042, 1.2276002394781758, 1.921654463947725, 0.5813995812063594, 0.0803196123953026, 1.8389351927287145, 0.16811956377702597, 0.7360494847739617, 0.7872811359029432, -0.23213361054581796, 0.25410719630423795, -1.0464515396471832, 0.04360243377828116, 2.701755999830543, -0.9717454188673619, 0.7425419656186393, -0.496181277341029, -0.8133873929182727, -1.1330004377761325, -0.955830171469607, -1.2482520974139262, -1.122956080690021, -1.835465854346417, 1.5004577488317292, 0.7007035285781745, -1.4743077401923166, -4.329555450894985, -1.987629789583359, -0.4685499562338527, 1.307438445488066, -1.0945735068003108, -1.2971207212094231, 1.444380537867221, -0.3600877438535276, 0.016470881308543725, 1.7498265060859082, 3.906064892693917, -1.719757966696021, 1.5312164288781105, -0.8426119346300315, -1.8878268926197939, 0.025204036448506065, 0.5355662893320496, -0.7698548638055891, 1.1686048170707326, -1.0687350422807211, -0.15752078029855188, -3.104630141356066, -0.9468976295884158, 0.8834500106883749, -1.3396676439037984, 0.47251484704036084, 0.8412214447453676, -1.3895700099330413, 2.5264893426855095, -0.9746301576198451, 0.8411638361676709, -0.3200337789111148, -0.7577632479914441, 0.3459108173052667, 0.23721019954932096, 2.149954483723121, 0.23171890152026822, 2.543186237393434, 1.1096529149643735, -1.3593139153597569, 0.5914493270754939, 0.5287882272455277, 0.5250269133684768, -1.3448961205225756, -0.763910732071334, 1.6519827894942787, 0.3412054006995869, -0.29395449505285703, 0.9327373681466186, -0.08692120510091271, 0.3567097007835693, -1.3685831401726873, 0.04675784846444645, -0.8437631639639224, 1.4755198196303003, -0.611928928314469, -2.2173794588423545, -0.3695939906348599, 0.2812522439142026, 0.9044844373838243, -0.34622266120869727, 0.15384286017848206, 1.203191082840022, -0.37146168226029797, 2.685210271656011, -1.648041964573543, 0.45432467689259526, -0.8203486449993246, -1.1297233889943796, 0.051198061193666815, -0.031521071991563, 1.9392136309549983, 0.9638935049293922, 1.5127728347187348, -1.24497139500535, -1.2064450824124788, 1.726715252959625, 2.155746520288963, 0.5146639460622712, 0.7019950099024944, 1.5174212825984046, 0.9931020066244394, 4.3160266023279075, 0.9164192222891875, -0.6661423758282158, -0.6602051942119631, -0.5112836808315012, -0.4234347070728683, 0.5419841779187635, 1.5595784365448688, 0.3947816646818987, 0.6488441870660814, 3.544357354880766, -1.499509625750247, 4.168821781895981, -2.2293162297885867, -1.6795022340201284, -0.14879391001638717, -0.7240568032870982, -1.0293994072360426, -0.07703461480741973, -0.48270330189803023, -0.1355744593450785, -2.4900029669708226, -0.8621699892403605, -2.8253165004919034, 1.4272050483637455, -0.6524095188696921, -1.0159764470624644, -0.5170372779082864, -0.8756254506001862, -0.11497431823916335, 0.17590398300790008, 1.0275945231592978, 1.3924283695325346, 1.1447591619068205, 0.4223957933859253, -2.298029687106747, -1.398965179994469, 0.0026168165435608215, -0.5897022208390181, -0.9956563728007433, -0.3390985208300106, -0.847982709070966, 1.1837901494947658, -1.9326658438903592, -0.7273633289885407, -1.224213671581491, -1.0190701505500963, -1.1077065081988056, -0.06627040533799684, -0.3840709536835361, -0.36860031194482407, -1.8970675256868166, -0.988638448530888, -0.11642002528248192, -0.5273943178057062, -0.8877409744894805, -1.1710547623210343, -1.0819984376835725, -0.8783564584944712, -0.7947391732241783, -0.4638098957548553, -0.21167716797708153, -0.500992450845246, -0.5819898094780577, -2.1960367220417414, -2.4778900420848986, -2.15549164195108, 2.2282188933613734, -1.910240098215664, 0.5161106587545643, -1.6088643282188382, -1.717074956232455, 1.654903747907333, 0.2775271776214252, -0.4935194993626297, 0.27360203306753034, 0.4689540053180366, 1.5413596184112943, 1.74577549856695, 1.1145375946794842, -0.002261946756188794, 1.05621982939561, 1.2485481684468205, -0.20854640254411783, 0.7224562462084195, -0.3910463285321922, -0.3743473060569529, 0.8776243200438911, 1.931858554736634, 1.3080070756024256, 0.7508631868054957, 1.4964736707990831, 2.2782131404451538, 1.353088794361325, 2.4855205350607803, 1.5215074549033418, 3.6988208597829098, 0.6581184099270684, 2.163589640400439, 1.294589842865148, 4.276176924946129, -1.8004994271697639, 0.764477837688256, 1.9362515222428667, 2.7435034792206396, 1.1848013522016612, -0.9457355933000049, 1.9669778962263451]}],\n",
              "                        {\"coloraxis\": {\"colorbar\": {\"title\": {\"text\": \"color\"}}, \"colorscale\": [[0.0, \"#0d0887\"], [0.1111111111111111, \"#46039f\"], [0.2222222222222222, \"#7201a8\"], [0.3333333333333333, \"#9c179e\"], [0.4444444444444444, \"#bd3786\"], [0.5555555555555556, \"#d8576b\"], [0.6666666666666666, \"#ed7953\"], [0.7777777777777778, \"#fb9f3a\"], [0.8888888888888888, \"#fdca26\"], [1.0, \"#f0f921\"]]}, \"legend\": {\"tracegroupgap\": 0}, \"scene\": {\"domain\": {\"x\": [0.0, 1.0], \"y\": [0.0, 1.0]}, \"xaxis\": {\"title\": {\"text\": \"PC 1\"}}, \"yaxis\": {\"title\": {\"text\": \"PC 2\"}}, \"zaxis\": {\"title\": {\"text\": \"PC 3\"}}}, \"template\": {\"data\": {\"bar\": [{\"error_x\": {\"color\": \"#2a3f5f\"}, \"error_y\": {\"color\": \"#2a3f5f\"}, \"marker\": {\"line\": {\"color\": \"#E5ECF6\", \"width\": 0.5}}, \"type\": \"bar\"}], \"barpolar\": [{\"marker\": {\"line\": {\"color\": \"#E5ECF6\", \"width\": 0.5}}, \"type\": \"barpolar\"}], \"carpet\": [{\"aaxis\": {\"endlinecolor\": \"#2a3f5f\", \"gridcolor\": \"white\", \"linecolor\": \"white\", \"minorgridcolor\": \"white\", \"startlinecolor\": \"#2a3f5f\"}, \"baxis\": {\"endlinecolor\": \"#2a3f5f\", \"gridcolor\": \"white\", \"linecolor\": \"white\", \"minorgridcolor\": \"white\", \"startlinecolor\": \"#2a3f5f\"}, \"type\": \"carpet\"}], \"choropleth\": [{\"colorbar\": {\"outlinewidth\": 0, \"ticks\": \"\"}, \"type\": \"choropleth\"}], \"contour\": [{\"colorbar\": {\"outlinewidth\": 0, \"ticks\": \"\"}, \"colorscale\": [[0.0, \"#0d0887\"], [0.1111111111111111, \"#46039f\"], [0.2222222222222222, \"#7201a8\"], [0.3333333333333333, \"#9c179e\"], [0.4444444444444444, \"#bd3786\"], [0.5555555555555556, \"#d8576b\"], [0.6666666666666666, \"#ed7953\"], [0.7777777777777778, \"#fb9f3a\"], [0.8888888888888888, \"#fdca26\"], [1.0, \"#f0f921\"]], \"type\": \"contour\"}], \"contourcarpet\": [{\"colorbar\": {\"outlinewidth\": 0, \"ticks\": \"\"}, \"type\": \"contourcarpet\"}], \"heatmap\": [{\"colorbar\": {\"outlinewidth\": 0, \"ticks\": \"\"}, \"colorscale\": [[0.0, \"#0d0887\"], [0.1111111111111111, \"#46039f\"], [0.2222222222222222, \"#7201a8\"], [0.3333333333333333, \"#9c179e\"], [0.4444444444444444, \"#bd3786\"], [0.5555555555555556, \"#d8576b\"], [0.6666666666666666, \"#ed7953\"], [0.7777777777777778, \"#fb9f3a\"], [0.8888888888888888, \"#fdca26\"], [1.0, \"#f0f921\"]], \"type\": \"heatmap\"}], \"heatmapgl\": [{\"colorbar\": {\"outlinewidth\": 0, \"ticks\": \"\"}, \"colorscale\": [[0.0, \"#0d0887\"], [0.1111111111111111, \"#46039f\"], [0.2222222222222222, \"#7201a8\"], [0.3333333333333333, \"#9c179e\"], [0.4444444444444444, \"#bd3786\"], [0.5555555555555556, \"#d8576b\"], [0.6666666666666666, \"#ed7953\"], [0.7777777777777778, \"#fb9f3a\"], [0.8888888888888888, \"#fdca26\"], [1.0, \"#f0f921\"]], \"type\": \"heatmapgl\"}], \"histogram\": [{\"marker\": {\"colorbar\": {\"outlinewidth\": 0, \"ticks\": \"\"}}, \"type\": \"histogram\"}], \"histogram2d\": [{\"colorbar\": {\"outlinewidth\": 0, \"ticks\": \"\"}, \"colorscale\": [[0.0, \"#0d0887\"], [0.1111111111111111, \"#46039f\"], [0.2222222222222222, \"#7201a8\"], [0.3333333333333333, \"#9c179e\"], [0.4444444444444444, \"#bd3786\"], [0.5555555555555556, \"#d8576b\"], [0.6666666666666666, \"#ed7953\"], [0.7777777777777778, \"#fb9f3a\"], [0.8888888888888888, \"#fdca26\"], [1.0, \"#f0f921\"]], \"type\": \"histogram2d\"}], \"histogram2dcontour\": [{\"colorbar\": {\"outlinewidth\": 0, \"ticks\": \"\"}, \"colorscale\": [[0.0, \"#0d0887\"], [0.1111111111111111, \"#46039f\"], [0.2222222222222222, \"#7201a8\"], [0.3333333333333333, \"#9c179e\"], [0.4444444444444444, \"#bd3786\"], [0.5555555555555556, \"#d8576b\"], [0.6666666666666666, \"#ed7953\"], [0.7777777777777778, \"#fb9f3a\"], [0.8888888888888888, \"#fdca26\"], [1.0, \"#f0f921\"]], \"type\": \"histogram2dcontour\"}], \"mesh3d\": [{\"colorbar\": {\"outlinewidth\": 0, \"ticks\": \"\"}, \"type\": \"mesh3d\"}], \"parcoords\": [{\"line\": {\"colorbar\": {\"outlinewidth\": 0, \"ticks\": \"\"}}, \"type\": \"parcoords\"}], \"pie\": [{\"automargin\": true, \"type\": \"pie\"}], \"scatter\": [{\"marker\": {\"colorbar\": {\"outlinewidth\": 0, \"ticks\": \"\"}}, \"type\": \"scatter\"}], \"scatter3d\": [{\"line\": {\"colorbar\": {\"outlinewidth\": 0, \"ticks\": \"\"}}, \"marker\": {\"colorbar\": {\"outlinewidth\": 0, \"ticks\": \"\"}}, \"type\": \"scatter3d\"}], \"scattercarpet\": [{\"marker\": {\"colorbar\": {\"outlinewidth\": 0, \"ticks\": \"\"}}, \"type\": \"scattercarpet\"}], \"scattergeo\": [{\"marker\": {\"colorbar\": {\"outlinewidth\": 0, \"ticks\": \"\"}}, \"type\": \"scattergeo\"}], \"scattergl\": [{\"marker\": {\"colorbar\": {\"outlinewidth\": 0, \"ticks\": \"\"}}, \"type\": \"scattergl\"}], \"scattermapbox\": [{\"marker\": {\"colorbar\": {\"outlinewidth\": 0, \"ticks\": \"\"}}, \"type\": \"scattermapbox\"}], \"scatterpolar\": [{\"marker\": {\"colorbar\": {\"outlinewidth\": 0, \"ticks\": \"\"}}, \"type\": \"scatterpolar\"}], \"scatterpolargl\": [{\"marker\": {\"colorbar\": {\"outlinewidth\": 0, \"ticks\": \"\"}}, \"type\": \"scatterpolargl\"}], \"scatterternary\": [{\"marker\": {\"colorbar\": {\"outlinewidth\": 0, \"ticks\": \"\"}}, \"type\": \"scatterternary\"}], \"surface\": [{\"colorbar\": {\"outlinewidth\": 0, \"ticks\": \"\"}, \"colorscale\": [[0.0, \"#0d0887\"], [0.1111111111111111, \"#46039f\"], [0.2222222222222222, \"#7201a8\"], [0.3333333333333333, \"#9c179e\"], [0.4444444444444444, \"#bd3786\"], [0.5555555555555556, \"#d8576b\"], [0.6666666666666666, \"#ed7953\"], [0.7777777777777778, \"#fb9f3a\"], [0.8888888888888888, \"#fdca26\"], [1.0, \"#f0f921\"]], \"type\": \"surface\"}], \"table\": [{\"cells\": {\"fill\": {\"color\": \"#EBF0F8\"}, \"line\": {\"color\": \"white\"}}, \"header\": {\"fill\": {\"color\": \"#C8D4E3\"}, \"line\": {\"color\": \"white\"}}, \"type\": \"table\"}]}, \"layout\": {\"annotationdefaults\": {\"arrowcolor\": \"#2a3f5f\", \"arrowhead\": 0, \"arrowwidth\": 1}, \"coloraxis\": {\"colorbar\": {\"outlinewidth\": 0, \"ticks\": \"\"}}, \"colorscale\": {\"diverging\": [[0, \"#8e0152\"], [0.1, \"#c51b7d\"], [0.2, \"#de77ae\"], [0.3, \"#f1b6da\"], [0.4, \"#fde0ef\"], [0.5, \"#f7f7f7\"], [0.6, \"#e6f5d0\"], [0.7, \"#b8e186\"], [0.8, \"#7fbc41\"], [0.9, \"#4d9221\"], [1, \"#276419\"]], \"sequential\": [[0.0, \"#0d0887\"], [0.1111111111111111, \"#46039f\"], [0.2222222222222222, \"#7201a8\"], [0.3333333333333333, \"#9c179e\"], [0.4444444444444444, \"#bd3786\"], [0.5555555555555556, \"#d8576b\"], [0.6666666666666666, \"#ed7953\"], [0.7777777777777778, \"#fb9f3a\"], [0.8888888888888888, \"#fdca26\"], [1.0, \"#f0f921\"]], \"sequentialminus\": [[0.0, \"#0d0887\"], [0.1111111111111111, \"#46039f\"], [0.2222222222222222, \"#7201a8\"], [0.3333333333333333, \"#9c179e\"], [0.4444444444444444, \"#bd3786\"], [0.5555555555555556, \"#d8576b\"], [0.6666666666666666, \"#ed7953\"], [0.7777777777777778, \"#fb9f3a\"], [0.8888888888888888, \"#fdca26\"], [1.0, \"#f0f921\"]]}, \"colorway\": [\"#636efa\", \"#EF553B\", \"#00cc96\", \"#ab63fa\", \"#FFA15A\", \"#19d3f3\", \"#FF6692\", \"#B6E880\", \"#FF97FF\", \"#FECB52\"], \"font\": {\"color\": \"#2a3f5f\"}, \"geo\": {\"bgcolor\": \"white\", \"lakecolor\": \"white\", \"landcolor\": \"#E5ECF6\", \"showlakes\": true, \"showland\": true, \"subunitcolor\": \"white\"}, \"hoverlabel\": {\"align\": \"left\"}, \"hovermode\": \"closest\", \"mapbox\": {\"style\": \"light\"}, \"paper_bgcolor\": \"white\", \"plot_bgcolor\": \"#E5ECF6\", \"polar\": {\"angularaxis\": {\"gridcolor\": \"white\", \"linecolor\": \"white\", \"ticks\": \"\"}, \"bgcolor\": \"#E5ECF6\", \"radialaxis\": {\"gridcolor\": \"white\", \"linecolor\": \"white\", \"ticks\": \"\"}}, \"scene\": {\"xaxis\": {\"backgroundcolor\": \"#E5ECF6\", \"gridcolor\": \"white\", \"gridwidth\": 2, \"linecolor\": \"white\", \"showbackground\": true, \"ticks\": \"\", \"zerolinecolor\": \"white\"}, \"yaxis\": {\"backgroundcolor\": \"#E5ECF6\", \"gridcolor\": \"white\", \"gridwidth\": 2, \"linecolor\": \"white\", \"showbackground\": true, \"ticks\": \"\", \"zerolinecolor\": \"white\"}, \"zaxis\": {\"backgroundcolor\": \"#E5ECF6\", \"gridcolor\": \"white\", \"gridwidth\": 2, \"linecolor\": \"white\", \"showbackground\": true, \"ticks\": \"\", \"zerolinecolor\": \"white\"}}, \"shapedefaults\": {\"line\": {\"color\": \"#2a3f5f\"}}, \"ternary\": {\"aaxis\": {\"gridcolor\": \"white\", \"linecolor\": \"white\", \"ticks\": \"\"}, \"baxis\": {\"gridcolor\": \"white\", \"linecolor\": \"white\", \"ticks\": \"\"}, \"bgcolor\": \"#E5ECF6\", \"caxis\": {\"gridcolor\": \"white\", \"linecolor\": \"white\", \"ticks\": \"\"}}, \"title\": {\"x\": 0.05}, \"xaxis\": {\"automargin\": true, \"gridcolor\": \"white\", \"linecolor\": \"white\", \"ticks\": \"\", \"title\": {\"standoff\": 15}, \"zerolinecolor\": \"white\", \"zerolinewidth\": 2}, \"yaxis\": {\"automargin\": true, \"gridcolor\": \"white\", \"linecolor\": \"white\", \"ticks\": \"\", \"title\": {\"standoff\": 15}, \"zerolinecolor\": \"white\", \"zerolinewidth\": 2}}}, \"title\": {\"text\": \"Total Explained Variance: 74.59%\"}},\n",
              "                        {\"responsive\": true}\n",
              "                    ).then(function(){\n",
              "                            \n",
              "var gd = document.getElementById('84055b34-be79-4104-b587-444f139704e4');\n",
              "var x = new MutationObserver(function (mutations, observer) {{\n",
              "        var display = window.getComputedStyle(gd).display;\n",
              "        if (!display || display === 'none') {{\n",
              "            console.log([gd, 'removed!']);\n",
              "            Plotly.purge(gd);\n",
              "            observer.disconnect();\n",
              "        }}\n",
              "}});\n",
              "\n",
              "// Listen for the removal of the full notebook cells\n",
              "var notebookContainer = gd.closest('#notebook-container');\n",
              "if (notebookContainer) {{\n",
              "    x.observe(notebookContainer, {childList: true});\n",
              "}}\n",
              "\n",
              "// Listen for the clearing of the current output cell\n",
              "var outputEl = gd.closest('.output');\n",
              "if (outputEl) {{\n",
              "    x.observe(outputEl, {childList: true});\n",
              "}}\n",
              "\n",
              "                        })\n",
              "                };\n",
              "                \n",
              "            </script>\n",
              "        </div>\n",
              "</body>\n",
              "</html>"
            ]
          },
          "metadata": {}
        }
      ]
    },
    {
      "cell_type": "markdown",
      "metadata": {
        "id": "u6cHIS60E12w"
      },
      "source": [
        "**Unsupervised metrics calculation**"
      ]
    },
    {
      "cell_type": "code",
      "metadata": {
        "colab": {
          "base_uri": "https://localhost:8080/",
          "height": 112
        },
        "id": "PFElQRP3JPvL",
        "outputId": "c6bf0888-6aa1-40a6-a86b-a60e48144ce3"
      },
      "source": [
        "# Calculate the PCA metrics\n",
        "from sklearn.cluster import KMeans, AgglomerativeClustering, AffinityPropagation, SpectralClustering\n",
        "metrics_data =[]\n",
        "model = KMeans(n_clusters = 3, init = \"k-means++\", random_state=1)\n",
        "# model =SpectralClustering(n_clusters=3, random_state=1,\n",
        "#                                      affinity='nearest_neighbors')\n",
        "#model= AgglomerativeClustering(n_clusters=3)\n",
        "pca_data=[df_pca_2, df_pca_3]\n",
        "for x in pca_data:\n",
        "  label = model.fit(x)\n",
        "\n",
        "  metrics_data.append({\n",
        "          'ARI': metrics.adjusted_rand_score(y, label.labels_),\n",
        "          'AMI': metrics.adjusted_mutual_info_score(y, label.labels_,\n",
        "                                                  average_method='arithmetic'),\n",
        "          'Homogenity': metrics.homogeneity_score(y, label.labels_),\n",
        "          'Completeness': metrics.completeness_score(y, label.labels_),\n",
        "          'V-measure': metrics.v_measure_score(y, label.labels_),\n",
        "          'Silhouette': metrics.silhouette_score(X, label.labels_)})\n",
        "\n",
        "\n",
        "\n",
        "results = pd.DataFrame(data=metrics_data, columns=['ARI', 'AMI', 'Homogenity',\n",
        "                                           'Completeness', 'V-measure', \n",
        "                                           'Silhouette'],\n",
        "                       index=['K-means-PCA-2', 'K-means-PCA-3'])\n",
        "\n",
        "results\n"
      ],
      "execution_count": 61,
      "outputs": [
        {
          "output_type": "execute_result",
          "data": {
            "text/html": [
              "<div>\n",
              "<style scoped>\n",
              "    .dataframe tbody tr th:only-of-type {\n",
              "        vertical-align: middle;\n",
              "    }\n",
              "\n",
              "    .dataframe tbody tr th {\n",
              "        vertical-align: top;\n",
              "    }\n",
              "\n",
              "    .dataframe thead th {\n",
              "        text-align: right;\n",
              "    }\n",
              "</style>\n",
              "<table border=\"1\" class=\"dataframe\">\n",
              "  <thead>\n",
              "    <tr style=\"text-align: right;\">\n",
              "      <th></th>\n",
              "      <th>ARI</th>\n",
              "      <th>AMI</th>\n",
              "      <th>Homogenity</th>\n",
              "      <th>Completeness</th>\n",
              "      <th>V-measure</th>\n",
              "      <th>Silhouette</th>\n",
              "    </tr>\n",
              "  </thead>\n",
              "  <tbody>\n",
              "    <tr>\n",
              "      <th>K-means-PCA-2</th>\n",
              "      <td>0.519267</td>\n",
              "      <td>0.441899</td>\n",
              "      <td>0.537487</td>\n",
              "      <td>0.376955</td>\n",
              "      <td>0.443130</td>\n",
              "      <td>0.318496</td>\n",
              "    </tr>\n",
              "    <tr>\n",
              "      <th>K-means-PCA-3</th>\n",
              "      <td>0.505578</td>\n",
              "      <td>0.426815</td>\n",
              "      <td>0.519170</td>\n",
              "      <td>0.364182</td>\n",
              "      <td>0.428079</td>\n",
              "      <td>0.316187</td>\n",
              "    </tr>\n",
              "  </tbody>\n",
              "</table>\n",
              "</div>"
            ],
            "text/plain": [
              "                    ARI       AMI  ...  V-measure  Silhouette\n",
              "K-means-PCA-2  0.519267  0.441899  ...   0.443130    0.318496\n",
              "K-means-PCA-3  0.505578  0.426815  ...   0.428079    0.316187\n",
              "\n",
              "[2 rows x 6 columns]"
            ]
          },
          "metadata": {},
          "execution_count": 61
        }
      ]
    },
    {
      "cell_type": "markdown",
      "metadata": {
        "id": "YQa_e4wHbjlG"
      },
      "source": [
        "Adjusted Rand Index (ARI):\n",
        "positive ARI values indicate that these splits are consistent [0,1]\n",
        "\n",
        "Adjusted Mutual Information (AMI)\n",
        "Similarly to the ARI, the AMI is defined.Values close to zero mean the splits are independent, and those close to 1 mean they are similar (with complete match at AMI=1)\n",
        "\n",
        "Homogeneity, completeness, V-measure\n"
      ]
    },
    {
      "cell_type": "markdown",
      "metadata": {
        "id": "QsnY0h93EOd6"
      },
      "source": [
        "**Check the accuracy for 2nd and 3rd components.**"
      ]
    },
    {
      "cell_type": "code",
      "metadata": {
        "id": "-xOPDG1v2flY"
      },
      "source": [
        "pca_2_X  = pca_2_df.drop(['target'], axis=1)\n",
        "pca_3_X  = pca_3_df.drop(['target'], axis=1)"
      ],
      "execution_count": 161,
      "outputs": []
    },
    {
      "cell_type": "code",
      "metadata": {
        "id": "URlnfsc0kAVm"
      },
      "source": [
        "from sklearn.linear_model import LogisticRegression\n",
        "from sklearn.model_selection import train_test_split"
      ],
      "execution_count": 162,
      "outputs": []
    },
    {
      "cell_type": "code",
      "metadata": {
        "id": "Ovc6o27QWYBK"
      },
      "source": [
        "#splitting dataset into a training set and test set\n",
        "\n",
        "X_train, X_test, y_train, y_test = train_test_split(pca_2_X, df['target'], test_size=0.3, random_state = 1)"
      ],
      "execution_count": 163,
      "outputs": []
    },
    {
      "cell_type": "code",
      "metadata": {
        "id": "N8_jab311XiG"
      },
      "source": [
        "model = LogisticRegression()\n",
        "\n",
        "model.fit(X_train, y_train)\n",
        "\n",
        "#predicting results\n",
        "\n",
        "y_pred = model.predict(X_test)\n",
        "\n",
        "accuracy_pca_2 = metrics.accuracy_score(y_test,y_pred)"
      ],
      "execution_count": 164,
      "outputs": []
    },
    {
      "cell_type": "code",
      "metadata": {
        "id": "600mvDDH1yKr"
      },
      "source": [
        "#splitting dataset into a training set and test set\n",
        "\n",
        "X_train, X_test, y_train, y_test = train_test_split(pca_3_X, df['target'], test_size=0.3, random_state = 1)"
      ],
      "execution_count": 165,
      "outputs": []
    },
    {
      "cell_type": "code",
      "metadata": {
        "id": "sIpPLmtt-g89"
      },
      "source": [
        "model = LogisticRegression()\n",
        "\n",
        "model.fit(X_train, y_train)\n",
        "\n",
        "#predicting results\n",
        "\n",
        "y_pred = model.predict(X_test)\n",
        "\n",
        "accuracy_pca_3 = metrics.accuracy_score(y_test,y_pred)"
      ],
      "execution_count": 166,
      "outputs": []
    },
    {
      "cell_type": "code",
      "metadata": {
        "colab": {
          "base_uri": "https://localhost:8080/"
        },
        "id": "jjylfbyJ-jFn",
        "outputId": "81be15d5-d267-4376-c6e8-991038cd2598"
      },
      "source": [
        "print(\"accuracy score after transforming PCA with n_component = 2:\", accuracy_pca_2)\n",
        "print(\"accuracy score after transforming PCA with n_component = 3:\", accuracy_pca_3)"
      ],
      "execution_count": 167,
      "outputs": [
        {
          "output_type": "stream",
          "name": "stdout",
          "text": [
            "accuracy score after transforming PCA with n_component = 2: 0.9415204678362573\n",
            "accuracy score after transforming PCA with n_component = 3: 0.935672514619883\n"
          ]
        }
      ]
    },
    {
      "cell_type": "code",
      "metadata": {
        "id": "lJiHFPJ_EfPW"
      },
      "source": [
        ""
      ],
      "execution_count": null,
      "outputs": []
    }
  ]
}