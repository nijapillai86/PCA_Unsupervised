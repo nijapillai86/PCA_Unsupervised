{
  "nbformat": 4,
  "nbformat_minor": 0,
  "metadata": {
    "colab": {
      "name": "Capstone_Project_Supervised.ipynb",
      "provenance": [],
      "collapsed_sections": [],
      "authorship_tag": "ABX9TyM/axT7+bMucrMRoXH282zn",
      "include_colab_link": true
    },
    "kernelspec": {
      "name": "python3",
      "display_name": "Python 3"
    },
    "language_info": {
      "name": "python"
    }
  },
  "cells": [
    {
      "cell_type": "markdown",
      "metadata": {
        "id": "view-in-github",
        "colab_type": "text"
      },
      "source": [
        "<a href=\"https://colab.research.google.com/github/nijapillai86/PCA_Unsupervised/blob/main/Capstone_Project_Supervised.ipynb\" target=\"_parent\"><img src=\"https://colab.research.google.com/assets/colab-badge.svg\" alt=\"Open In Colab\"/></a>"
      ]
    },
    {
      "cell_type": "code",
      "metadata": {
        "id": "hODP7qBSIKxa"
      },
      "source": [
        "import pandas as pd"
      ],
      "execution_count": 2,
      "outputs": []
    },
    {
      "cell_type": "code",
      "metadata": {
        "colab": {
          "base_uri": "https://localhost:8080/",
          "height": 202
        },
        "id": "qzYOITGnK5_V",
        "outputId": "39478402-bd1a-44f4-dcc9-203b1a65e504"
      },
      "source": [
        "df_finalConversion = pd.read_csv('/content/sample_data/Problem2_FInalConversions', sep='\\t',names=['Timestamp', 'Userid', 'ProductCode','CartValue'])\n",
        "df_finalConversion.head()"
      ],
      "execution_count": 3,
      "outputs": [
        {
          "output_type": "execute_result",
          "data": {
            "text/html": [
              "<div>\n",
              "<style scoped>\n",
              "    .dataframe tbody tr th:only-of-type {\n",
              "        vertical-align: middle;\n",
              "    }\n",
              "\n",
              "    .dataframe tbody tr th {\n",
              "        vertical-align: top;\n",
              "    }\n",
              "\n",
              "    .dataframe thead th {\n",
              "        text-align: right;\n",
              "    }\n",
              "</style>\n",
              "<table border=\"1\" class=\"dataframe\">\n",
              "  <thead>\n",
              "    <tr style=\"text-align: right;\">\n",
              "      <th></th>\n",
              "      <th>Timestamp</th>\n",
              "      <th>Userid</th>\n",
              "      <th>ProductCode</th>\n",
              "      <th>CartValue</th>\n",
              "    </tr>\n",
              "  </thead>\n",
              "  <tbody>\n",
              "    <tr>\n",
              "      <th>0</th>\n",
              "      <td>2017-07-26 00:00:10.465</td>\n",
              "      <td>0</td>\n",
              "      <td>A293532</td>\n",
              "      <td>52.14</td>\n",
              "    </tr>\n",
              "    <tr>\n",
              "      <th>1</th>\n",
              "      <td>2017-07-26 00:00:12.301</td>\n",
              "      <td>0</td>\n",
              "      <td>H209597</td>\n",
              "      <td>31.50</td>\n",
              "    </tr>\n",
              "    <tr>\n",
              "      <th>2</th>\n",
              "      <td>2017-07-26 00:00:12.388</td>\n",
              "      <td>0</td>\n",
              "      <td>H211370</td>\n",
              "      <td>30.48</td>\n",
              "    </tr>\n",
              "    <tr>\n",
              "      <th>3</th>\n",
              "      <td>2017-07-26 00:00:14.389</td>\n",
              "      <td>0</td>\n",
              "      <td>A282331</td>\n",
              "      <td>51.00</td>\n",
              "    </tr>\n",
              "    <tr>\n",
              "      <th>4</th>\n",
              "      <td>2017-07-26 00:00:16.837</td>\n",
              "      <td>0</td>\n",
              "      <td>H211410</td>\n",
              "      <td>16.74</td>\n",
              "    </tr>\n",
              "  </tbody>\n",
              "</table>\n",
              "</div>"
            ],
            "text/plain": [
              "                 Timestamp  Userid ProductCode  CartValue\n",
              "0  2017-07-26 00:00:10.465       0     A293532      52.14\n",
              "1  2017-07-26 00:00:12.301       0     H209597      31.50\n",
              "2  2017-07-26 00:00:12.388       0     H211370      30.48\n",
              "3  2017-07-26 00:00:14.389       0     A282331      51.00\n",
              "4  2017-07-26 00:00:16.837       0     H211410      16.74"
            ]
          },
          "metadata": {},
          "execution_count": 3
        }
      ]
    },
    {
      "cell_type": "code",
      "metadata": {
        "colab": {
          "base_uri": "https://localhost:8080/",
          "height": 202
        },
        "id": "d21hq7ZhLusY",
        "outputId": "9d8d1232-02b6-4f81-ed97-ce102775c324"
      },
      "source": [
        "df_browingBehavior = pd.read_csv('/content/sample_data/Problem2_Site_BrowingBehavior', sep='\\t',names=['Timestamp', 'Userid', 'Website_section_visited'])\n",
        "df_browingBehavior.head()"
      ],
      "execution_count": 4,
      "outputs": [
        {
          "output_type": "execute_result",
          "data": {
            "text/html": [
              "<div>\n",
              "<style scoped>\n",
              "    .dataframe tbody tr th:only-of-type {\n",
              "        vertical-align: middle;\n",
              "    }\n",
              "\n",
              "    .dataframe tbody tr th {\n",
              "        vertical-align: top;\n",
              "    }\n",
              "\n",
              "    .dataframe thead th {\n",
              "        text-align: right;\n",
              "    }\n",
              "</style>\n",
              "<table border=\"1\" class=\"dataframe\">\n",
              "  <thead>\n",
              "    <tr style=\"text-align: right;\">\n",
              "      <th></th>\n",
              "      <th>Timestamp</th>\n",
              "      <th>Userid</th>\n",
              "      <th>Website_section_visited</th>\n",
              "    </tr>\n",
              "  </thead>\n",
              "  <tbody>\n",
              "    <tr>\n",
              "      <th>0</th>\n",
              "      <td>2017-07-26 00:01:40.965</td>\n",
              "      <td>0</td>\n",
              "      <td>product</td>\n",
              "    </tr>\n",
              "    <tr>\n",
              "      <th>1</th>\n",
              "      <td>2017-07-26 00:03:18.448</td>\n",
              "      <td>0</td>\n",
              "      <td>product</td>\n",
              "    </tr>\n",
              "    <tr>\n",
              "      <th>2</th>\n",
              "      <td>2017-07-26 00:36:59.028</td>\n",
              "      <td>0</td>\n",
              "      <td>default</td>\n",
              "    </tr>\n",
              "    <tr>\n",
              "      <th>3</th>\n",
              "      <td>2017-07-26 00:41:17.273</td>\n",
              "      <td>0</td>\n",
              "      <td>product-listing-category</td>\n",
              "    </tr>\n",
              "    <tr>\n",
              "      <th>4</th>\n",
              "      <td>2017-07-26 00:45:39.197</td>\n",
              "      <td>0</td>\n",
              "      <td>content</td>\n",
              "    </tr>\n",
              "  </tbody>\n",
              "</table>\n",
              "</div>"
            ],
            "text/plain": [
              "                 Timestamp  Userid   Website_section_visited\n",
              "0  2017-07-26 00:01:40.965       0                   product\n",
              "1  2017-07-26 00:03:18.448       0                   product\n",
              "2  2017-07-26 00:36:59.028       0                   default\n",
              "3  2017-07-26 00:41:17.273       0  product-listing-category\n",
              "4  2017-07-26 00:45:39.197       0                   content"
            ]
          },
          "metadata": {},
          "execution_count": 4
        }
      ]
    },
    {
      "cell_type": "code",
      "metadata": {
        "colab": {
          "base_uri": "https://localhost:8080/"
        },
        "id": "xhONEUosL_lU",
        "outputId": "f4aa3997-b6b7-4778-9d1b-dd1037c26a22"
      },
      "source": [
        "print(\"Browsing Behaviour shape :\", df_browingBehavior.shape)\n",
        "print(\"Final Conversion shape :\", df_finalConversion.shape)"
      ],
      "execution_count": 5,
      "outputs": [
        {
          "output_type": "stream",
          "name": "stdout",
          "text": [
            "Browsing Behaviour shape : (253409, 3)\n",
            "Final Conversion shape : (79795, 4)\n"
          ]
        }
      ]
    },
    {
      "cell_type": "code",
      "metadata": {
        "colab": {
          "base_uri": "https://localhost:8080/"
        },
        "id": "4aHMgVwuM9Ox",
        "outputId": "ef8b8f20-74f6-430e-d1e7-a5684d0c5b08"
      },
      "source": [
        "df_browingBehavior.info()\n",
        "df_finalConversion.info()"
      ],
      "execution_count": 6,
      "outputs": [
        {
          "output_type": "stream",
          "name": "stdout",
          "text": [
            "<class 'pandas.core.frame.DataFrame'>\n",
            "RangeIndex: 253409 entries, 0 to 253408\n",
            "Data columns (total 3 columns):\n",
            " #   Column                   Non-Null Count   Dtype \n",
            "---  ------                   --------------   ----- \n",
            " 0   Timestamp                253409 non-null  object\n",
            " 1   Userid                   253409 non-null  int64 \n",
            " 2   Website_section_visited  253409 non-null  object\n",
            "dtypes: int64(1), object(2)\n",
            "memory usage: 5.8+ MB\n",
            "<class 'pandas.core.frame.DataFrame'>\n",
            "RangeIndex: 79795 entries, 0 to 79794\n",
            "Data columns (total 4 columns):\n",
            " #   Column       Non-Null Count  Dtype  \n",
            "---  ------       --------------  -----  \n",
            " 0   Timestamp    79795 non-null  object \n",
            " 1   Userid       79795 non-null  int64  \n",
            " 2   ProductCode  79795 non-null  object \n",
            " 3   CartValue    79795 non-null  float64\n",
            "dtypes: float64(1), int64(1), object(2)\n",
            "memory usage: 2.4+ MB\n"
          ]
        }
      ]
    },
    {
      "cell_type": "code",
      "metadata": {
        "colab": {
          "base_uri": "https://localhost:8080/"
        },
        "id": "sNHJ7RgwNUAL",
        "outputId": "bf0227fe-3c8e-4f35-b833-6dd1e0f5fc94"
      },
      "source": [
        "df_browingBehavior.Userid.unique()\n",
        "df_browingBehavior.Userid.value_counts()"
      ],
      "execution_count": 7,
      "outputs": [
        {
          "output_type": "execute_result",
          "data": {
            "text/plain": [
              "0                      118579\n",
              "137223537287029747        120\n",
              "2073684814437124290        87\n",
              "877671478457643637         81\n",
              "1317679380196114591        80\n",
              "                        ...  \n",
              "384811576342108875          1\n",
              "636447528151751744          1\n",
              "3935502783851291109         1\n",
              "4410532445806110611         1\n",
              "4281119533056523146         1\n",
              "Name: Userid, Length: 24058, dtype: int64"
            ]
          },
          "metadata": {},
          "execution_count": 7
        }
      ]
    },
    {
      "cell_type": "code",
      "metadata": {
        "colab": {
          "base_uri": "https://localhost:8080/"
        },
        "id": "VqhIcCaxNskX",
        "outputId": "3896c8ec-5c02-439e-9256-bb7d6dd52432"
      },
      "source": [
        "df_browingBehavior.Website_section_visited.unique()\n",
        "df_browingBehavior.Website_section_visited.value_counts()"
      ],
      "execution_count": 8,
      "outputs": [
        {
          "output_type": "execute_result",
          "data": {
            "text/plain": [
              "product                     83251\n",
              "product-listing-category    35070\n",
              "home                        31942\n",
              "content                     27742\n",
              "default                     22603\n",
              "iroa                        21660\n",
              "cart                        17732\n",
              "product-listing-search      10916\n",
              "shoplive                     2035\n",
              "productNotFound               256\n",
              "product-listing-custom        140\n",
              "signupcomplete                 56\n",
              "mys                             5\n",
              "product-listing-                1\n",
              "Name: Website_section_visited, dtype: int64"
            ]
          },
          "metadata": {},
          "execution_count": 8
        }
      ]
    },
    {
      "cell_type": "code",
      "metadata": {
        "colab": {
          "base_uri": "https://localhost:8080/"
        },
        "id": "75HI8FHyOE40",
        "outputId": "11a13e44-2fd3-42f4-d84a-2d8ab7319ed9"
      },
      "source": [
        "df_finalConversion.ProductCode.value_counts()"
      ],
      "execution_count": 9,
      "outputs": [
        {
          "output_type": "execute_result",
          "data": {
            "text/plain": [
              "K45766                                     6194\n",
              "H211394                                    5168\n",
              "H211370                                    4920\n",
              "A293532                                    4798\n",
              "H211397                                    1434\n",
              "                                           ... \n",
              "H209634,H209088,H209079,H205929,H205929       1\n",
              "H292911                                       1\n",
              "H205246,J347433                               1\n",
              "A281864                                       1\n",
              "A239673,A282049                               1\n",
              "Name: ProductCode, Length: 13066, dtype: int64"
            ]
          },
          "metadata": {},
          "execution_count": 9
        }
      ]
    },
    {
      "cell_type": "code",
      "metadata": {
        "colab": {
          "base_uri": "https://localhost:8080/",
          "height": 202
        },
        "id": "TxWPpJzkOXR-",
        "outputId": "288a77c7-454b-4d7e-ca49-2a8896d1e181"
      },
      "source": [
        "df_browingBehavior['isGuestUser'] = df_browingBehavior.Userid.apply(lambda x : x<=0)\n",
        "df_browingBehavior.head()"
      ],
      "execution_count": 10,
      "outputs": [
        {
          "output_type": "execute_result",
          "data": {
            "text/html": [
              "<div>\n",
              "<style scoped>\n",
              "    .dataframe tbody tr th:only-of-type {\n",
              "        vertical-align: middle;\n",
              "    }\n",
              "\n",
              "    .dataframe tbody tr th {\n",
              "        vertical-align: top;\n",
              "    }\n",
              "\n",
              "    .dataframe thead th {\n",
              "        text-align: right;\n",
              "    }\n",
              "</style>\n",
              "<table border=\"1\" class=\"dataframe\">\n",
              "  <thead>\n",
              "    <tr style=\"text-align: right;\">\n",
              "      <th></th>\n",
              "      <th>Timestamp</th>\n",
              "      <th>Userid</th>\n",
              "      <th>Website_section_visited</th>\n",
              "      <th>isGuestUser</th>\n",
              "    </tr>\n",
              "  </thead>\n",
              "  <tbody>\n",
              "    <tr>\n",
              "      <th>0</th>\n",
              "      <td>2017-07-26 00:01:40.965</td>\n",
              "      <td>0</td>\n",
              "      <td>product</td>\n",
              "      <td>True</td>\n",
              "    </tr>\n",
              "    <tr>\n",
              "      <th>1</th>\n",
              "      <td>2017-07-26 00:03:18.448</td>\n",
              "      <td>0</td>\n",
              "      <td>product</td>\n",
              "      <td>True</td>\n",
              "    </tr>\n",
              "    <tr>\n",
              "      <th>2</th>\n",
              "      <td>2017-07-26 00:36:59.028</td>\n",
              "      <td>0</td>\n",
              "      <td>default</td>\n",
              "      <td>True</td>\n",
              "    </tr>\n",
              "    <tr>\n",
              "      <th>3</th>\n",
              "      <td>2017-07-26 00:41:17.273</td>\n",
              "      <td>0</td>\n",
              "      <td>product-listing-category</td>\n",
              "      <td>True</td>\n",
              "    </tr>\n",
              "    <tr>\n",
              "      <th>4</th>\n",
              "      <td>2017-07-26 00:45:39.197</td>\n",
              "      <td>0</td>\n",
              "      <td>content</td>\n",
              "      <td>True</td>\n",
              "    </tr>\n",
              "  </tbody>\n",
              "</table>\n",
              "</div>"
            ],
            "text/plain": [
              "                 Timestamp  Userid   Website_section_visited  isGuestUser\n",
              "0  2017-07-26 00:01:40.965       0                   product         True\n",
              "1  2017-07-26 00:03:18.448       0                   product         True\n",
              "2  2017-07-26 00:36:59.028       0                   default         True\n",
              "3  2017-07-26 00:41:17.273       0  product-listing-category         True\n",
              "4  2017-07-26 00:45:39.197       0                   content         True"
            ]
          },
          "metadata": {},
          "execution_count": 10
        }
      ]
    },
    {
      "cell_type": "code",
      "metadata": {
        "colab": {
          "base_uri": "https://localhost:8080/"
        },
        "id": "6RzevfzzPwTY",
        "outputId": "1c75faab-13b2-45ae-fff0-0a3c6043d719"
      },
      "source": [
        "df_browingBehavior['isGuestUser'].value_counts()"
      ],
      "execution_count": 11,
      "outputs": [
        {
          "output_type": "execute_result",
          "data": {
            "text/plain": [
              "False    134830\n",
              "True     118579\n",
              "Name: isGuestUser, dtype: int64"
            ]
          },
          "metadata": {},
          "execution_count": 11
        }
      ]
    },
    {
      "cell_type": "code",
      "metadata": {
        "colab": {
          "base_uri": "https://localhost:8080/",
          "height": 417
        },
        "id": "eAXnugWJcXeq",
        "outputId": "0b848c3e-2d24-4601-c959-7a73cd5d9c20"
      },
      "source": [
        " df_browingBehavior[df_browingBehavior['isGuestUser']==True].groupby('Website_section_visited')['Timestamp'].count().reset_index().rename({'Timestamp':'User_count'})"
      ],
      "execution_count": 12,
      "outputs": [
        {
          "output_type": "execute_result",
          "data": {
            "text/html": [
              "<div>\n",
              "<style scoped>\n",
              "    .dataframe tbody tr th:only-of-type {\n",
              "        vertical-align: middle;\n",
              "    }\n",
              "\n",
              "    .dataframe tbody tr th {\n",
              "        vertical-align: top;\n",
              "    }\n",
              "\n",
              "    .dataframe thead th {\n",
              "        text-align: right;\n",
              "    }\n",
              "</style>\n",
              "<table border=\"1\" class=\"dataframe\">\n",
              "  <thead>\n",
              "    <tr style=\"text-align: right;\">\n",
              "      <th></th>\n",
              "      <th>Website_section_visited</th>\n",
              "      <th>Timestamp</th>\n",
              "    </tr>\n",
              "  </thead>\n",
              "  <tbody>\n",
              "    <tr>\n",
              "      <th>0</th>\n",
              "      <td>cart</td>\n",
              "      <td>8164</td>\n",
              "    </tr>\n",
              "    <tr>\n",
              "      <th>1</th>\n",
              "      <td>content</td>\n",
              "      <td>12983</td>\n",
              "    </tr>\n",
              "    <tr>\n",
              "      <th>2</th>\n",
              "      <td>default</td>\n",
              "      <td>10773</td>\n",
              "    </tr>\n",
              "    <tr>\n",
              "      <th>3</th>\n",
              "      <td>home</td>\n",
              "      <td>14654</td>\n",
              "    </tr>\n",
              "    <tr>\n",
              "      <th>4</th>\n",
              "      <td>iroa</td>\n",
              "      <td>8739</td>\n",
              "    </tr>\n",
              "    <tr>\n",
              "      <th>5</th>\n",
              "      <td>product</td>\n",
              "      <td>40398</td>\n",
              "    </tr>\n",
              "    <tr>\n",
              "      <th>6</th>\n",
              "      <td>product-listing-category</td>\n",
              "      <td>16496</td>\n",
              "    </tr>\n",
              "    <tr>\n",
              "      <th>7</th>\n",
              "      <td>product-listing-custom</td>\n",
              "      <td>72</td>\n",
              "    </tr>\n",
              "    <tr>\n",
              "      <th>8</th>\n",
              "      <td>product-listing-search</td>\n",
              "      <td>5141</td>\n",
              "    </tr>\n",
              "    <tr>\n",
              "      <th>9</th>\n",
              "      <td>productNotFound</td>\n",
              "      <td>118</td>\n",
              "    </tr>\n",
              "    <tr>\n",
              "      <th>10</th>\n",
              "      <td>shoplive</td>\n",
              "      <td>1019</td>\n",
              "    </tr>\n",
              "    <tr>\n",
              "      <th>11</th>\n",
              "      <td>signupcomplete</td>\n",
              "      <td>22</td>\n",
              "    </tr>\n",
              "  </tbody>\n",
              "</table>\n",
              "</div>"
            ],
            "text/plain": [
              "     Website_section_visited  Timestamp\n",
              "0                       cart       8164\n",
              "1                    content      12983\n",
              "2                    default      10773\n",
              "3                       home      14654\n",
              "4                       iroa       8739\n",
              "5                    product      40398\n",
              "6   product-listing-category      16496\n",
              "7     product-listing-custom         72\n",
              "8     product-listing-search       5141\n",
              "9            productNotFound        118\n",
              "10                  shoplive       1019\n",
              "11            signupcomplete         22"
            ]
          },
          "metadata": {},
          "execution_count": 12
        }
      ]
    },
    {
      "cell_type": "code",
      "metadata": {
        "id": "_FjgV2xpQFOo"
      },
      "source": [
        "df_prodAnalysis= df_browingBehavior[df_browingBehavior['isGuestUser']==True].groupby('Website_section_visited')['Timestamp'].count().reset_index().rename(columns={'Timestamp': 'userCount'})\n",
        "df_prodAnalysis['percentile']= df_prodAnalysis['userCount'].apply(lambda x:x/len(df_browingBehavior)*100)"
      ],
      "execution_count": 13,
      "outputs": []
    },
    {
      "cell_type": "code",
      "metadata": {
        "colab": {
          "base_uri": "https://localhost:8080/",
          "height": 202
        },
        "id": "Rt1W7URdQgON",
        "outputId": "6f2c77a5-fae9-405d-c5c6-8762193e7ceb"
      },
      "source": [
        "df_prodAnalysis.head()"
      ],
      "execution_count": 14,
      "outputs": [
        {
          "output_type": "execute_result",
          "data": {
            "text/html": [
              "<div>\n",
              "<style scoped>\n",
              "    .dataframe tbody tr th:only-of-type {\n",
              "        vertical-align: middle;\n",
              "    }\n",
              "\n",
              "    .dataframe tbody tr th {\n",
              "        vertical-align: top;\n",
              "    }\n",
              "\n",
              "    .dataframe thead th {\n",
              "        text-align: right;\n",
              "    }\n",
              "</style>\n",
              "<table border=\"1\" class=\"dataframe\">\n",
              "  <thead>\n",
              "    <tr style=\"text-align: right;\">\n",
              "      <th></th>\n",
              "      <th>Website_section_visited</th>\n",
              "      <th>userCount</th>\n",
              "      <th>percentile</th>\n",
              "    </tr>\n",
              "  </thead>\n",
              "  <tbody>\n",
              "    <tr>\n",
              "      <th>0</th>\n",
              "      <td>cart</td>\n",
              "      <td>8164</td>\n",
              "      <td>3.221669</td>\n",
              "    </tr>\n",
              "    <tr>\n",
              "      <th>1</th>\n",
              "      <td>content</td>\n",
              "      <td>12983</td>\n",
              "      <td>5.123338</td>\n",
              "    </tr>\n",
              "    <tr>\n",
              "      <th>2</th>\n",
              "      <td>default</td>\n",
              "      <td>10773</td>\n",
              "      <td>4.251230</td>\n",
              "    </tr>\n",
              "    <tr>\n",
              "      <th>3</th>\n",
              "      <td>home</td>\n",
              "      <td>14654</td>\n",
              "      <td>5.782746</td>\n",
              "    </tr>\n",
              "    <tr>\n",
              "      <th>4</th>\n",
              "      <td>iroa</td>\n",
              "      <td>8739</td>\n",
              "      <td>3.448575</td>\n",
              "    </tr>\n",
              "  </tbody>\n",
              "</table>\n",
              "</div>"
            ],
            "text/plain": [
              "  Website_section_visited  userCount  percentile\n",
              "0                    cart       8164    3.221669\n",
              "1                 content      12983    5.123338\n",
              "2                 default      10773    4.251230\n",
              "3                    home      14654    5.782746\n",
              "4                    iroa       8739    3.448575"
            ]
          },
          "metadata": {},
          "execution_count": 14
        }
      ]
    },
    {
      "cell_type": "code",
      "metadata": {
        "colab": {
          "base_uri": "https://localhost:8080/",
          "height": 355
        },
        "id": "qrp2heIQQyhx",
        "outputId": "b8f5025b-e61a-4a99-ea31-71238e0f365b"
      },
      "source": [
        "df_prodAnalysis = df_prodAnalysis.sort_values(\"userCount\",ascending=False)\n",
        "df_prodAnalysis.head(10)\n"
      ],
      "execution_count": 15,
      "outputs": [
        {
          "output_type": "execute_result",
          "data": {
            "text/html": [
              "<div>\n",
              "<style scoped>\n",
              "    .dataframe tbody tr th:only-of-type {\n",
              "        vertical-align: middle;\n",
              "    }\n",
              "\n",
              "    .dataframe tbody tr th {\n",
              "        vertical-align: top;\n",
              "    }\n",
              "\n",
              "    .dataframe thead th {\n",
              "        text-align: right;\n",
              "    }\n",
              "</style>\n",
              "<table border=\"1\" class=\"dataframe\">\n",
              "  <thead>\n",
              "    <tr style=\"text-align: right;\">\n",
              "      <th></th>\n",
              "      <th>Website_section_visited</th>\n",
              "      <th>userCount</th>\n",
              "      <th>percentile</th>\n",
              "    </tr>\n",
              "  </thead>\n",
              "  <tbody>\n",
              "    <tr>\n",
              "      <th>5</th>\n",
              "      <td>product</td>\n",
              "      <td>40398</td>\n",
              "      <td>15.941817</td>\n",
              "    </tr>\n",
              "    <tr>\n",
              "      <th>6</th>\n",
              "      <td>product-listing-category</td>\n",
              "      <td>16496</td>\n",
              "      <td>6.509635</td>\n",
              "    </tr>\n",
              "    <tr>\n",
              "      <th>3</th>\n",
              "      <td>home</td>\n",
              "      <td>14654</td>\n",
              "      <td>5.782746</td>\n",
              "    </tr>\n",
              "    <tr>\n",
              "      <th>1</th>\n",
              "      <td>content</td>\n",
              "      <td>12983</td>\n",
              "      <td>5.123338</td>\n",
              "    </tr>\n",
              "    <tr>\n",
              "      <th>2</th>\n",
              "      <td>default</td>\n",
              "      <td>10773</td>\n",
              "      <td>4.251230</td>\n",
              "    </tr>\n",
              "    <tr>\n",
              "      <th>4</th>\n",
              "      <td>iroa</td>\n",
              "      <td>8739</td>\n",
              "      <td>3.448575</td>\n",
              "    </tr>\n",
              "    <tr>\n",
              "      <th>0</th>\n",
              "      <td>cart</td>\n",
              "      <td>8164</td>\n",
              "      <td>3.221669</td>\n",
              "    </tr>\n",
              "    <tr>\n",
              "      <th>8</th>\n",
              "      <td>product-listing-search</td>\n",
              "      <td>5141</td>\n",
              "      <td>2.028736</td>\n",
              "    </tr>\n",
              "    <tr>\n",
              "      <th>10</th>\n",
              "      <td>shoplive</td>\n",
              "      <td>1019</td>\n",
              "      <td>0.402117</td>\n",
              "    </tr>\n",
              "    <tr>\n",
              "      <th>9</th>\n",
              "      <td>productNotFound</td>\n",
              "      <td>118</td>\n",
              "      <td>0.046565</td>\n",
              "    </tr>\n",
              "  </tbody>\n",
              "</table>\n",
              "</div>"
            ],
            "text/plain": [
              "     Website_section_visited  userCount  percentile\n",
              "5                    product      40398   15.941817\n",
              "6   product-listing-category      16496    6.509635\n",
              "3                       home      14654    5.782746\n",
              "1                    content      12983    5.123338\n",
              "2                    default      10773    4.251230\n",
              "4                       iroa       8739    3.448575\n",
              "0                       cart       8164    3.221669\n",
              "8     product-listing-search       5141    2.028736\n",
              "10                  shoplive       1019    0.402117\n",
              "9            productNotFound        118    0.046565"
            ]
          },
          "metadata": {},
          "execution_count": 15
        }
      ]
    },
    {
      "cell_type": "code",
      "metadata": {
        "colab": {
          "base_uri": "https://localhost:8080/",
          "height": 461
        },
        "id": "2vYowYHkdrY7",
        "outputId": "4935e08c-2188-4b64-e773-0565df18c534"
      },
      "source": [
        "df_prodAnalysis.plot.bar(x=\"Website_section_visited\", y=\"userCount\", rot=90, title=\"Number of guest user visits- to websiteSection\",figsize=(16,5));"
      ],
      "execution_count": 16,
      "outputs": [
        {
          "output_type": "display_data",
          "data": {
            "image/png": "[encoded data removed]",
            "text/plain": [
              "<Figure size 1152x360 with 1 Axes>"
            ]
          },
          "metadata": {
            "needs_background": "light"
          }
        }
      ]
    },
    {
      "cell_type": "code",
      "metadata": {
        "colab": {
          "base_uri": "https://localhost:8080/",
          "height": 202
        },
        "id": "xtMUPM84d7Q5",
        "outputId": "7c741136-a226-4098-e2de-ff99da1b8e0d"
      },
      "source": [
        "df_finalConversion['isGuestUser'] = df_finalConversion.Userid.apply(lambda x : x<=0)\n",
        "df_finalConversion.head()"
      ],
      "execution_count": 17,
      "outputs": [
        {
          "output_type": "execute_result",
          "data": {
            "text/html": [
              "<div>\n",
              "<style scoped>\n",
              "    .dataframe tbody tr th:only-of-type {\n",
              "        vertical-align: middle;\n",
              "    }\n",
              "\n",
              "    .dataframe tbody tr th {\n",
              "        vertical-align: top;\n",
              "    }\n",
              "\n",
              "    .dataframe thead th {\n",
              "        text-align: right;\n",
              "    }\n",
              "</style>\n",
              "<table border=\"1\" class=\"dataframe\">\n",
              "  <thead>\n",
              "    <tr style=\"text-align: right;\">\n",
              "      <th></th>\n",
              "      <th>Timestamp</th>\n",
              "      <th>Userid</th>\n",
              "      <th>ProductCode</th>\n",
              "      <th>CartValue</th>\n",
              "      <th>isGuestUser</th>\n",
              "    </tr>\n",
              "  </thead>\n",
              "  <tbody>\n",
              "    <tr>\n",
              "      <th>0</th>\n",
              "      <td>2017-07-26 00:00:10.465</td>\n",
              "      <td>0</td>\n",
              "      <td>A293532</td>\n",
              "      <td>52.14</td>\n",
              "      <td>True</td>\n",
              "    </tr>\n",
              "    <tr>\n",
              "      <th>1</th>\n",
              "      <td>2017-07-26 00:00:12.301</td>\n",
              "      <td>0</td>\n",
              "      <td>H209597</td>\n",
              "      <td>31.50</td>\n",
              "      <td>True</td>\n",
              "    </tr>\n",
              "    <tr>\n",
              "      <th>2</th>\n",
              "      <td>2017-07-26 00:00:12.388</td>\n",
              "      <td>0</td>\n",
              "      <td>H211370</td>\n",
              "      <td>30.48</td>\n",
              "      <td>True</td>\n",
              "    </tr>\n",
              "    <tr>\n",
              "      <th>3</th>\n",
              "      <td>2017-07-26 00:00:14.389</td>\n",
              "      <td>0</td>\n",
              "      <td>A282331</td>\n",
              "      <td>51.00</td>\n",
              "      <td>True</td>\n",
              "    </tr>\n",
              "    <tr>\n",
              "      <th>4</th>\n",
              "      <td>2017-07-26 00:00:16.837</td>\n",
              "      <td>0</td>\n",
              "      <td>H211410</td>\n",
              "      <td>16.74</td>\n",
              "      <td>True</td>\n",
              "    </tr>\n",
              "  </tbody>\n",
              "</table>\n",
              "</div>"
            ],
            "text/plain": [
              "                 Timestamp  Userid ProductCode  CartValue  isGuestUser\n",
              "0  2017-07-26 00:00:10.465       0     A293532      52.14         True\n",
              "1  2017-07-26 00:00:12.301       0     H209597      31.50         True\n",
              "2  2017-07-26 00:00:12.388       0     H211370      30.48         True\n",
              "3  2017-07-26 00:00:14.389       0     A282331      51.00         True\n",
              "4  2017-07-26 00:00:16.837       0     H211410      16.74         True"
            ]
          },
          "metadata": {},
          "execution_count": 17
        }
      ]
    },
    {
      "cell_type": "code",
      "metadata": {
        "colab": {
          "base_uri": "https://localhost:8080/"
        },
        "id": "gFR1kk6yepWY",
        "outputId": "d110a9f4-4b44-42f6-e8fb-22c1c4df73b5"
      },
      "source": [
        "df_finalConversion['isGuestUser'].value_counts()"
      ],
      "execution_count": 18,
      "outputs": [
        {
          "output_type": "execute_result",
          "data": {
            "text/plain": [
              "False    59598\n",
              "True     20197\n",
              "Name: isGuestUser, dtype: int64"
            ]
          },
          "metadata": {},
          "execution_count": 18
        }
      ]
    },
    {
      "cell_type": "code",
      "metadata": {
        "colab": {
          "base_uri": "https://localhost:8080/"
        },
        "id": "NbGTqiTHfx-9",
        "outputId": "3f59bb92-6890-418a-c1b3-2b9a2ccb1dc1"
      },
      "source": [
        "df_finalConversion.groupby('isGuestUser')['Timestamp'].count()"
      ],
      "execution_count": 19,
      "outputs": [
        {
          "output_type": "execute_result",
          "data": {
            "text/plain": [
              "isGuestUser\n",
              "False    59598\n",
              "True     20197\n",
              "Name: Timestamp, dtype: int64"
            ]
          },
          "metadata": {},
          "execution_count": 19
        }
      ]
    },
    {
      "cell_type": "code",
      "metadata": {
        "colab": {
          "base_uri": "https://localhost:8080/",
          "height": 110
        },
        "id": "XrfbkxSoe4YZ",
        "outputId": "be3dfa56-4aa3-4340-80af-69590b390d53"
      },
      "source": [
        "df_guestAnalysis= df_finalConversion.groupby('isGuestUser')['Timestamp'].count().reset_index().rename(columns={'Timestamp': 'userCount'})\n",
        "df_guestAnalysis['percentile']= df_guestAnalysis['userCount'].apply(lambda x:x/len(df_finalConversion)*100)\n",
        "\n",
        "df_guestAnalysis.head()"
      ],
      "execution_count": 20,
      "outputs": [
        {
          "output_type": "execute_result",
          "data": {
            "text/html": [
              "<div>\n",
              "<style scoped>\n",
              "    .dataframe tbody tr th:only-of-type {\n",
              "        vertical-align: middle;\n",
              "    }\n",
              "\n",
              "    .dataframe tbody tr th {\n",
              "        vertical-align: top;\n",
              "    }\n",
              "\n",
              "    .dataframe thead th {\n",
              "        text-align: right;\n",
              "    }\n",
              "</style>\n",
              "<table border=\"1\" class=\"dataframe\">\n",
              "  <thead>\n",
              "    <tr style=\"text-align: right;\">\n",
              "      <th></th>\n",
              "      <th>isGuestUser</th>\n",
              "      <th>userCount</th>\n",
              "      <th>percentile</th>\n",
              "    </tr>\n",
              "  </thead>\n",
              "  <tbody>\n",
              "    <tr>\n",
              "      <th>0</th>\n",
              "      <td>False</td>\n",
              "      <td>59598</td>\n",
              "      <td>74.68889</td>\n",
              "    </tr>\n",
              "    <tr>\n",
              "      <th>1</th>\n",
              "      <td>True</td>\n",
              "      <td>20197</td>\n",
              "      <td>25.31111</td>\n",
              "    </tr>\n",
              "  </tbody>\n",
              "</table>\n",
              "</div>"
            ],
            "text/plain": [
              "   isGuestUser  userCount  percentile\n",
              "0        False      59598    74.68889\n",
              "1         True      20197    25.31111"
            ]
          },
          "metadata": {},
          "execution_count": 20
        }
      ]
    },
    {
      "cell_type": "code",
      "metadata": {
        "colab": {
          "base_uri": "https://localhost:8080/",
          "height": 458
        },
        "id": "pD5Rw7m5fKq8",
        "outputId": "141eff64-60ea-4190-efa3-04819db1e033"
      },
      "source": [
        "df_guestAnalysis.plot.bar(x=\"isGuestUser\", y=\"percentile\", rot=90, title=\"Number of guest user purchased product\",figsize=(5,5));\n",
        "\n",
        "\n",
        "df_guestAnalysis.head()"
      ],
      "execution_count": 21,
      "outputs": [
        {
          "output_type": "execute_result",
          "data": {
            "text/html": [
              "<div>\n",
              "<style scoped>\n",
              "    .dataframe tbody tr th:only-of-type {\n",
              "        vertical-align: middle;\n",
              "    }\n",
              "\n",
              "    .dataframe tbody tr th {\n",
              "        vertical-align: top;\n",
              "    }\n",
              "\n",
              "    .dataframe thead th {\n",
              "        text-align: right;\n",
              "    }\n",
              "</style>\n",
              "<table border=\"1\" class=\"dataframe\">\n",
              "  <thead>\n",
              "    <tr style=\"text-align: right;\">\n",
              "      <th></th>\n",
              "      <th>isGuestUser</th>\n",
              "      <th>userCount</th>\n",
              "      <th>percentile</th>\n",
              "    </tr>\n",
              "  </thead>\n",
              "  <tbody>\n",
              "    <tr>\n",
              "      <th>0</th>\n",
              "      <td>False</td>\n",
              "      <td>59598</td>\n",
              "      <td>74.68889</td>\n",
              "    </tr>\n",
              "    <tr>\n",
              "      <th>1</th>\n",
              "      <td>True</td>\n",
              "      <td>20197</td>\n",
              "      <td>25.31111</td>\n",
              "    </tr>\n",
              "  </tbody>\n",
              "</table>\n",
              "</div>"
            ],
            "text/plain": [
              "   isGuestUser  userCount  percentile\n",
              "0        False      59598    74.68889\n",
              "1         True      20197    25.31111"
            ]
          },
          "metadata": {},
          "execution_count": 21
        },
        {
          "output_type": "display_data",
          "data": {
            "image/png": "[encoded data removed]",
            "text/plain": [
              "<Figure size 360x360 with 1 Axes>"
            ]
          },
          "metadata": {
            "needs_background": "light"
          }
        }
      ]
    },
    {
      "cell_type": "code",
      "metadata": {
        "id": "F5z_Ev-LgPNZ"
      },
      "source": [
        ""
      ],
      "execution_count": 21,
      "outputs": []
    },
    {
      "cell_type": "markdown",
      "metadata": {
        "id": "54sUIJUL9dt0"
      },
      "source": [
        "https://datacarpentry.org/python-ecology-lesson/05-merging-data/"
      ]
    },
    {
      "cell_type": "code",
      "metadata": {
        "id": "Mt5AUXbG9e3-"
      },
      "source": [
        "merged_inner = pd.merge(left=df_browingBehavior, right=df_finalConversion, left_on='isGuestUser', right_on='isGuestUser')\n",
        "print(merged_inner.shape)\n",
        "merged_inner"
      ],
      "execution_count": null,
      "outputs": []
    },
    {
      "cell_type": "code",
      "metadata": {
        "id": "-K_Nst5E_Dfb"
      },
      "source": [
        ""
      ],
      "execution_count": null,
      "outputs": []
    }
  ]
}